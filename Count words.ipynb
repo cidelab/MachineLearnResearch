{
 "cells": [
  {
   "cell_type": "code",
   "execution_count": null,
   "metadata": {
    "collapsed": false
   },
   "outputs": [],
   "source": [
    "a = \"betty bought a bit of butter but the butter was bitter\""
   ]
  },
  {
   "cell_type": "code",
   "execution_count": null,
   "metadata": {
    "collapsed": false,
    "scrolled": true
   },
   "outputs": [],
   "source": [
    "arrs = a.split()\n",
    "arrs.sort()\n",
    "arrs"
   ]
  },
  {
   "cell_type": "code",
   "execution_count": null,
   "metadata": {
    "collapsed": false
   },
   "outputs": [],
   "source": [
    "from operator import itemgetter\n",
    "\n",
    "counts = dict()\n",
    "\n",
    "for w in arrs:\n",
    "        if w not in counts:\n",
    "            counts[w] = 1\n",
    "        else:\n",
    "            counts[w] += 1\n",
    "            \n",
    "#sort by value...\n",
    "lst = list()\n",
    "for key, value in counts.items():\n",
    "    lst.append((key, value))\n",
    "    \n",
    "lst.sort(key = itemgetter(0,1), reverse = True)\n",
    "\n",
    "lst"
   ]
  },
  {
   "cell_type": "code",
   "execution_count": null,
   "metadata": {
    "collapsed": false
   },
   "outputs": [],
   "source": [
    "top_n = list()\n",
    "\n",
    "for key, val in counts.items():\n",
    "    top_n.append((val, key))\n",
    "\n",
    "top_n.sort()\n",
    "\n",
    "top_n"
   ]
  },
  {
   "cell_type": "code",
   "execution_count": null,
   "metadata": {
    "collapsed": true
   },
   "outputs": [],
   "source": [
    "    \"\"\"Return the n most frequently occuring words in s.\"\"\"\n",
    "    \n",
    "    # TODO: Count the number of occurences of each word in s\n",
    "    arrs = s.split()\n",
    "    arrs.sort(reverse=True)\n",
    "    \n",
    "    # TODO: Sort the occurences in descending order (alphabetically in case of ties)\n",
    "    counts = dict()\n",
    "    \n",
    "    for w in arrs:\n",
    "        if w not in counts:\n",
    "            counts[w] = 1\n",
    "        else:\n",
    "            counts[w] += 1\n",
    "    \n",
    "    lst = list()\n",
    "    for key, wrd in counts.items():\n",
    "        lst.append( (wrd, key) )\n",
    "    \n",
    "    top_n = list()\n",
    "    for key, wrd in lst[:n]:\n",
    "        top_n.append((wrd, key))\n",
    "        \n",
    "    #top_n.sort(key=itemgetter(1))\n",
    "    \n",
    "    # TODO: Return the top n words as a list of tuples (<word>, <count>)\n",
    "    return top_n"
   ]
  },
  {
   "cell_type": "code",
   "execution_count": 1,
   "metadata": {
    "collapsed": false
   },
   "outputs": [
    {
     "data": {
      "text/plain": [
       "[('down', 4), ('falling', 4), ('bridge', 2), ('is', 2), ('london', 2)]"
      ]
     },
     "execution_count": 1,
     "metadata": {},
     "output_type": "execute_result"
    }
   ],
   "source": [
    "#final code...\n",
    "# TODO: Count the number of occurences of each word in s\n",
    "#\"cat bat mat cat bat cat\", 3\n",
    "#\"betty bought a bit of butter but the butter was bitter\", 3\n",
    "#\"london bridge is falling down falling down falling down london bridge is falling down my fair lady\", 5)\n",
    "\n",
    "import operator\n",
    "\n",
    "s = \"london bridge is falling down falling down falling down london bridge is falling down my fair lady\"\n",
    "n = 5\n",
    "    \n",
    "arrs = s.split()\n",
    "counts = dict()\n",
    "    \n",
    "for w in arrs:\n",
    "    if w not in counts:\n",
    "        counts[w] = 1\n",
    "    else:\n",
    "        counts[w] += 1\n",
    "\n",
    "# TODO: Sort the occurences in descending order (alphabetically in case of ties)\n",
    "top_n = counts.items()\n",
    "\n",
    "top_n.sort(key=lambda row: row[0])\n",
    "top_n.sort(key=lambda row: row[1], reverse = True)\n",
    "    \n",
    "t = list()\n",
    "for key, val in top_n[:n]:\n",
    "    t.append((key, val))\n",
    "\n",
    "t"
   ]
  },
  {
   "cell_type": "markdown",
   "metadata": {
    "collapsed": true
   },
   "source": [
    "Implement a function count_words() in Python that takes as input a string s and a number n, and returns the n most frequently-occuring words in s. The return value should be a list of tuples - the top n words paired with their respective counts [(<word>, <count>), (<word>, <count>), ...], sorted in descending count order.\n",
    "\n",
    "You can assume that all input will be in lowercase and that there will be no punctuations or other characters (only letters and single separating spaces). In case of a tie (equal count), order the tied words alphabetically.\n",
    "\n",
    "E.g.:\n",
    "\n",
    "print count_words(\"betty bought a bit of butter but the butter was bitter\",3)\n",
    "Output:\n",
    "\n",
    "[('butter', 2), ('a', 1), ('betty', 1)]\n",
    "Instructions\n",
    "This is a Python programming exercise. A simple code editor will open up in the next node. Follow the instructions in the template code provided to complete the exercise (look for \"TODO\"s).\n",
    "\n",
    "You can execute your program using the Test Run button. Output is shown below the editor area.\n",
    "\n",
    "To verify your solution, use the Submit button, and watch for feedback on the right hand side. Feel free to iterate as many times as you need.\n",
    "\n",
    "Your code did not pass one or more tests.\n",
    "\n",
    "Please look at the output below the editor, fix the issues and try to submit again.\n",
    "Evaluating...\n",
    "[FAILED] Wrong word found: 'bat' where it should be 'cat'\n",
    "Inputs: ('cat bat mat cat bat cat', 3)\n",
    "Output: [('cat', 3), ('bat', 1), ('cat', 3)]\n",
    "\n",
    "\n",
    "[FAILED] Wrong word found: 'bitter' where it should be 'betty'\n",
    "Inputs: ('betty bought a bit of butter but the butter was bitter', 3)\n",
    "Output: [('butter', 2), ('a', 1), ('betty', 1)]\n",
    "\n",
    "\n",
    "[FAILED] Wrong word found: 'a' where it should be 'dddd'\n",
    "Inputs: ('a bb bb ccc ccc ccc dddd dddd dddd dddd', 2)\n",
    "Output: [('a', 1), ('dddd', 4)]\n",
    "\n",
    "\n",
    "[FAILED] Wrong word found: 'bridge' where it should be 'down'\n",
    "Inputs: ('london bridge is falling down falling down falling down london bridge is falling down my fair lady', 5)\n",
    "Output: [('bridge', 2), ('fair', 1), ('my', 1), ('is', 2), ('down', 4)]"
   ]
  }
 ],
 "metadata": {
  "anaconda-cloud": {},
  "kernelspec": {
   "display_name": "Python [conda env:py27]",
   "language": "python",
   "name": "conda-env-py27-py"
  },
  "language_info": {
   "codemirror_mode": {
    "name": "ipython",
    "version": 2
   },
   "file_extension": ".py",
   "mimetype": "text/x-python",
   "name": "python",
   "nbconvert_exporter": "python",
   "pygments_lexer": "ipython2",
   "version": "2.7.12"
  }
 },
 "nbformat": 4,
 "nbformat_minor": 0
}

{
 "cells": [
  {
   "cell_type": "code",
   "execution_count": 1,
   "metadata": {
    "collapsed": true
   },
   "outputs": [],
   "source": [
    "sample_memo = '''\n",
    "Milt, we're gonna need to go ahead and move you downstairs into storage B. We have some new people coming in, and we need all the space we can get. So if you could just go ahead and pack up your stuff and move it down there, that would be terrific, OK?\n",
    "Oh, and remember: next Friday... is Hawaiian shirt day. So, you know, if you want to, go ahead and wear a Hawaiian shirt and jeans.\n",
    "Oh, oh, and I almost forgot. Ahh, I'm also gonna need you to go ahead and come in on Sunday, too...\n",
    "Hello Peter, whats happening? Ummm, I'm gonna need you to go ahead and come in tomorrow. So if you could be here around 9 that would be great, mmmk... oh oh! and I almost forgot ahh, I'm also gonna need you to go ahead and come in on Sunday too, kay. We ahh lost some people this week and ah, we sorta need to play catch up.\n",
    "'''"
   ]
  },
  {
   "cell_type": "code",
   "execution_count": 2,
   "metadata": {
    "collapsed": true
   },
   "outputs": [],
   "source": [
    "corrupted_memo = '''\n",
    "Yeah, I'm gonna --- you to go ahead --- --- complain about this. Oh, and if you could --- --- and sit at the kids' table, that'd be --- \n",
    "'''"
   ]
  },
  {
   "cell_type": "code",
   "execution_count": 21,
   "metadata": {
    "collapsed": false
   },
   "outputs": [
    {
     "data": {
      "text/plain": [
       "['Milt,',\n",
       " \"we're\",\n",
       " 'gonna',\n",
       " 'need',\n",
       " 'to',\n",
       " 'go',\n",
       " 'ahead',\n",
       " 'and',\n",
       " 'move',\n",
       " 'you',\n",
       " 'downstairs',\n",
       " 'into',\n",
       " 'storage',\n",
       " 'B.',\n",
       " 'We',\n",
       " 'have',\n",
       " 'some',\n",
       " 'new',\n",
       " 'people',\n",
       " 'coming',\n",
       " 'in,',\n",
       " 'and',\n",
       " 'we',\n",
       " 'need',\n",
       " 'all',\n",
       " 'the',\n",
       " 'space',\n",
       " 'we',\n",
       " 'can',\n",
       " 'get.',\n",
       " 'So',\n",
       " 'if',\n",
       " 'you',\n",
       " 'could',\n",
       " 'just',\n",
       " 'go',\n",
       " 'ahead',\n",
       " 'and',\n",
       " 'pack',\n",
       " 'up',\n",
       " 'your',\n",
       " 'stuff',\n",
       " 'and',\n",
       " 'move',\n",
       " 'it',\n",
       " 'down',\n",
       " 'there,',\n",
       " 'that',\n",
       " 'would',\n",
       " 'be',\n",
       " 'terrific,',\n",
       " 'OK?',\n",
       " 'Oh,',\n",
       " 'and',\n",
       " 'remember:',\n",
       " 'next',\n",
       " 'Friday...',\n",
       " 'is',\n",
       " 'Hawaiian',\n",
       " 'shirt',\n",
       " 'day.',\n",
       " 'So,',\n",
       " 'you',\n",
       " 'know,',\n",
       " 'if',\n",
       " 'you',\n",
       " 'want',\n",
       " 'to,',\n",
       " 'go',\n",
       " 'ahead',\n",
       " 'and',\n",
       " 'wear',\n",
       " 'a',\n",
       " 'Hawaiian',\n",
       " 'shirt',\n",
       " 'and',\n",
       " 'jeans.',\n",
       " 'Oh,',\n",
       " 'oh,',\n",
       " 'and',\n",
       " 'I',\n",
       " 'almost',\n",
       " 'forgot.',\n",
       " 'Ahh,',\n",
       " \"I'm\",\n",
       " 'also',\n",
       " 'gonna',\n",
       " 'need',\n",
       " 'you',\n",
       " 'to',\n",
       " 'go',\n",
       " 'ahead',\n",
       " 'and',\n",
       " 'come',\n",
       " 'in',\n",
       " 'on',\n",
       " 'Sunday,',\n",
       " 'too...',\n",
       " 'Hello',\n",
       " 'Peter,',\n",
       " 'whats',\n",
       " 'happening?',\n",
       " 'Ummm,',\n",
       " \"I'm\",\n",
       " 'gonna',\n",
       " 'need',\n",
       " 'you',\n",
       " 'to',\n",
       " 'go',\n",
       " 'ahead',\n",
       " 'and',\n",
       " 'come',\n",
       " 'in',\n",
       " 'tomorrow.',\n",
       " 'So',\n",
       " 'if',\n",
       " 'you',\n",
       " 'could',\n",
       " 'be',\n",
       " 'here',\n",
       " 'around',\n",
       " '9',\n",
       " 'that',\n",
       " 'would',\n",
       " 'be',\n",
       " 'great,',\n",
       " 'mmmk...',\n",
       " 'oh',\n",
       " 'oh!',\n",
       " 'and',\n",
       " 'I',\n",
       " 'almost',\n",
       " 'forgot',\n",
       " 'ahh,',\n",
       " \"I'm\",\n",
       " 'also',\n",
       " 'gonna',\n",
       " 'need',\n",
       " 'you',\n",
       " 'to',\n",
       " 'go',\n",
       " 'ahead',\n",
       " 'and',\n",
       " 'come',\n",
       " 'in',\n",
       " 'on',\n",
       " 'Sunday',\n",
       " 'too,',\n",
       " 'kay.',\n",
       " 'We',\n",
       " 'ahh',\n",
       " 'lost',\n",
       " 'some',\n",
       " 'people',\n",
       " 'this',\n",
       " 'week',\n",
       " 'and',\n",
       " 'ah,',\n",
       " 'we',\n",
       " 'sorta',\n",
       " 'need',\n",
       " 'to',\n",
       " 'play',\n",
       " 'catch',\n",
       " 'up.']"
      ]
     },
     "execution_count": 21,
     "metadata": {},
     "output_type": "execute_result"
    }
   ],
   "source": [
    "data_list = sample_memo.strip().split()\n",
    "data_list"
   ]
  },
  {
   "cell_type": "code",
   "execution_count": 18,
   "metadata": {
    "collapsed": true
   },
   "outputs": [],
   "source": [
    "#   Maximum Likelihood Hypothesis\n",
    "def NextWordProbability(sampletext, word):\n",
    "    \n",
    "    wrds = sampletext.split() # split the text\n",
    "    \n",
    "    maxL = dict() # a dictionary with keys the set of words that come after\n",
    "    # whose values are the number of times the key comes after that word.\n",
    "    i = 1;\n",
    "    \n",
    "    for w in wrds: # for each word in the array\n",
    "        \n",
    "        if word == w :\n",
    "            nw = wrds[i]\n",
    "            \n",
    "            if nw not in maxL:\n",
    "                maxL[nw] = 1\n",
    "            else:\n",
    "                maxL[nw] += 1        \n",
    "        i += 1\n",
    "        \n",
    "    #collect the relative probabilities of possible following words\n",
    "    for key, value in maxL.items():\n",
    "        maxL[key] = value / float(sum(maxL.values()))\n",
    "        \n",
    "    return maxL\n",
    "    return {}\n",
    "\n",
    "# "
   ]
  },
  {
   "cell_type": "code",
   "execution_count": 14,
   "metadata": {
    "collapsed": false
   },
   "outputs": [
    {
     "data": {
      "text/plain": [
       "{'on': 0.8571428571428571, 'tomorrow.': 0.3333333333333333}"
      ]
     },
     "execution_count": 14,
     "metadata": {},
     "output_type": "execute_result"
    }
   ],
   "source": [
    "NextWordProbability(sample_memo, \"in\") #test looks ok."
   ]
  },
  {
   "cell_type": "code",
   "execution_count": 22,
   "metadata": {
    "collapsed": false
   },
   "outputs": [
    {
     "name": "stdout",
     "output_type": "stream",
     "text": [
      "{'and': 1.0}\n"
     ]
    }
   ],
   "source": [
    "#   Bayes Optimal Classifier\n",
    "#   compute the optimal label for a second missing word in a row\n",
    "#   based on the possible words that could be in the first blank\n",
    "#   Finish the procedurce, LaterWords(), below\n",
    "#   You may want to import your code from the previous programming exercise!\n",
    "#\n",
    "\n",
    "data_list = sample_memo.strip().split()\n",
    "\n",
    "words_to_guess = [\"ahead\",\"could\"]\n",
    "\n",
    "    #@param sample: a sample of text to draw from\n",
    "    #@param word: a word occuring before a corrupted sequence\n",
    "    #@param distance: how many words later to estimate (i.e. 1 for the next word, 2 for the word after that)\n",
    "    #@returns: a single word which is the most likely possibility    \n",
    "def LaterWords(sample, word, distance):\n",
    "    # TODO: Given a word, collect the relative probabilities of possible following words\n",
    "    # from @sample. You may want to import your code from the maximum likelihood exercise.\n",
    "    \n",
    "    prob = NextWordProbability(sample,word)\n",
    "    \n",
    "    \n",
    "    # TODO: Repeat the above process--for each distance beyond 1, evaluate the words that\n",
    "    # might come after each word, and combine them weighting by relative probability\n",
    "    # into an estimate of what might appear next.\n",
    "    return prob\n",
    "    return {}\n",
    "    \n",
    "print LaterWords(sample_memo,\"ahead\",2)"
   ]
  },
  {
   "cell_type": "code",
   "execution_count": 23,
   "metadata": {
    "collapsed": false
   },
   "outputs": [
    {
     "name": "stdout",
     "output_type": "stream",
     "text": [
      "{'to': 0.3333333333333333, 'all': 0.23076923076923078, 'you': 0.8417266187050361}\n"
     ]
    }
   ],
   "source": [
    "print LaterWords(sample_memo,\"need\",2)"
   ]
  },
  {
   "cell_type": "code",
   "execution_count": null,
   "metadata": {
    "collapsed": true
   },
   "outputs": [],
   "source": []
  }
 ],
 "metadata": {
  "anaconda-cloud": {},
  "kernelspec": {
   "display_name": "Python [conda root]",
   "language": "python",
   "name": "conda-root-py"
  },
  "language_info": {
   "codemirror_mode": {
    "name": "ipython",
    "version": 2
   },
   "file_extension": ".py",
   "mimetype": "text/x-python",
   "name": "python",
   "nbconvert_exporter": "python",
   "pygments_lexer": "ipython2",
   "version": "2.7.12"
  }
 },
 "nbformat": 4,
 "nbformat_minor": 1
}

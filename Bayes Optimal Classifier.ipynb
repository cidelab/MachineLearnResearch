{
 "cells": [
  {
   "cell_type": "code",
   "execution_count": 1,
   "metadata": {
    "collapsed": true
   },
   "outputs": [],
   "source": [
    "sample_memo = '''\n",
    "Milt, we're gonna need to go ahead and move you downstairs into storage B. We have some new people coming in, and we need all the space we can get. So if you could just go ahead and pack up your stuff and move it down there, that would be terrific, OK?\n",
    "Oh, and remember: next Friday... is Hawaiian shirt day. So, you know, if you want to, go ahead and wear a Hawaiian shirt and jeans.\n",
    "Oh, oh, and I almost forgot. Ahh, I'm also gonna need you to go ahead and come in on Sunday, too...\n",
    "Hello Peter, whats happening? Ummm, I'm gonna need you to go ahead and come in tomorrow. So if you could be here around 9 that would be great, mmmk... oh oh! and I almost forgot ahh, I'm also gonna need you to go ahead and come in on Sunday too, kay. We ahh lost some people this week and ah, we sorta need to play catch up.\n",
    "'''"
   ]
  },
  {
   "cell_type": "code",
   "execution_count": 2,
   "metadata": {
    "collapsed": true
   },
   "outputs": [],
   "source": [
    "corrupted_memo = '''\n",
    "Yeah, I'm gonna --- you to go ahead --- --- complain about this. Oh, and if you could --- --- and sit at the kids' table, that'd be --- \n",
    "'''"
   ]
  },
  {
   "cell_type": "code",
   "execution_count": 3,
   "metadata": {
    "collapsed": false
   },
   "outputs": [],
   "source": [
    "data_list = sample_memo.strip().split()"
   ]
  },
  {
   "cell_type": "code",
   "execution_count": 4,
   "metadata": {
    "collapsed": false
   },
   "outputs": [],
   "source": [
    "#   Maximum Likelihood Hypothesis\n",
    "from operator import itemgetter\n",
    "def NextWordProbability(wrds, word):\n",
    "    \n",
    "    #wrds = sampletext.split() # split the text\n",
    "    maxL = dict() # a dictionary with keys the set of words that come after\n",
    "    # whose values are the number of times the key comes after that word.\n",
    "    i = 1;\n",
    "    \n",
    "    for w in wrds: # for each word in the array\n",
    "        \n",
    "        if word == w :\n",
    "            nw = wrds[i]\n",
    "            \n",
    "            if nw not in maxL:\n",
    "                maxL[nw] = 1\n",
    "            else:\n",
    "                maxL[nw] += 1        \n",
    "        i += 1\n",
    "        \n",
    "    #collect the relative probabilities of possible following words\n",
    "    for key, value in maxL.items():\n",
    "        maxL[key] = value / float(sum(maxL.values()))\n",
    "        \n",
    "        #maxLS = dict(sorted(maxL.items(), key=itemgetter(1), reverse = True))\n",
    "        \n",
    "    return maxL\n",
    "    return {}"
   ]
  },
  {
   "cell_type": "code",
   "execution_count": 5,
   "metadata": {
    "collapsed": false
   },
   "outputs": [
    {
     "name": "stdout",
     "output_type": "stream",
     "text": [
      "{'to': 0.375, 'could': 0.37209302325581395, 'downstairs': 0.26687354538401864, 'know,': 0.3317886835258721, 'want': 0.4263019337063216}\n"
     ]
    }
   ],
   "source": [
    "print NextWordProbability(data_list, \"you\") #test looks ok."
   ]
  },
  {
   "cell_type": "code",
   "execution_count": null,
   "metadata": {
    "collapsed": false
   },
   "outputs": [],
   "source": [
    "#   Bayes Optimal Classifier\n",
    "#   compute the optimal label for a second missing word in a row\n",
    "#   based on the possible words that could be in the first blank\n",
    "#   Finish the procedurce, LaterWords(), below\n",
    "#   You may want to import your code from the previous programming exercise!\n",
    "\n",
    "#data_list = sample_memo.strip().split()\n",
    "\n",
    "words_to_guess = [\"ahead\",\"could\"]\n",
    "\n",
    "    #@param sample: a sample of text to draw from\n",
    "    #@param word: a word occuring before a corrupted sequence\n",
    "    #@param distance: how many words later to estimate (i.e. 1 for the next word, 2 for the word after that)\n",
    "    #@returns: a single word which is the most likely possibility    \n",
    "def LaterWords(sample, word, distance):\n",
    "    # TODO: Given a word, collect the relative probabilities of possible following words\n",
    "    # from @sample. You may want to import your code from the maximum likelihood exercise.\n",
    "    wrds = sample.split() # split the text\n",
    "    prob = NextWordProbability(wrds,word)\n",
    "    \n",
    "    # TODO: Repeat the above process--for each distance beyond 1, evaluate the words that\n",
    "    # might come after each word, and combine them weighting by relative probability\n",
    "    # into an estimate of what might appear next\n",
    "    \n",
    "    n_prob = dict() # we are going to save the probabilities here...\n",
    "    \n",
    "    if(distance == 1):\n",
    "        n_prob = NextWordProbability(wrds, word)\n",
    "    else:\n",
    "        while(distance > 1) :\n",
    "            n_prob = {}\n",
    "            for k1 in prob.keys():\n",
    "                t_prob = NextWordProbability(wrds, k1)\n",
    "                for k2 in t_prob.keys():\n",
    "                    n_prob[k2] = n_prob.get(k2, 0) + prob[k1] * t_prob[k2]\n",
    "            prob = n_prob\n",
    "            print distance\n",
    "            distance = distance - 1\n",
    "    \n",
    "    sorted_x = sorted(n_prob.items(), key=itemgetter(1), reverse = True)[0][0]\n",
    "    return  sorted_x\n",
    "    return {}\n",
    "    \n",
    "LaterWords(sample_memo,\"and\", 2)"
   ]
  },
  {
   "cell_type": "code",
   "execution_count": null,
   "metadata": {
    "collapsed": true
   },
   "outputs": [],
   "source": []
  },
  {
   "cell_type": "code",
   "execution_count": null,
   "metadata": {
    "collapsed": true
   },
   "outputs": [],
   "source": []
  }
 ],
 "metadata": {
  "anaconda-cloud": {},
  "kernelspec": {
   "display_name": "Python [conda root]",
   "language": "python",
   "name": "conda-root-py"
  },
  "language_info": {
   "codemirror_mode": {
    "name": "ipython",
    "version": 2
   },
   "file_extension": ".py",
   "mimetype": "text/x-python",
   "name": "python",
   "nbconvert_exporter": "python",
   "pygments_lexer": "ipython2",
   "version": "2.7.12"
  }
 },
 "nbformat": 4,
 "nbformat_minor": 1
}

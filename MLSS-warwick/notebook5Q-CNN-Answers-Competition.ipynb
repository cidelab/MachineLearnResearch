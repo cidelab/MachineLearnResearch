{
 "cells": [
  {
   "cell_type": "markdown",
   "metadata": {},
   "source": [
    "### Notebook 5 Convolutional Neural Networks and Competition!\n",
    "===\n",
    "\n",
    "Inspired by:http://www.robots.ox.ac.uk/~vgg/practicals/cnn/ and \n",
    "https://cambridgespark.com/content/tutorials/convolutional-neural-networks-with-keras/index.html\n",
    "\n",
    "[_Convolutional neural networks_](http://www.deeplearningbook.org/contents/convnets.html) (CNNs) are specialised network type for processing data that has some continuity between adjacent components. Examples include time-series data or and image data.\n",
    "\n",
    "### CNN Building Blocks:\n",
    "A typical layer of a convolutional neural network consists of two stages. In the first stage the layer performs several convolutions (a tensor product) in parallel with non-linear activation. In the second stage we use a pooling function to modify the output to the next layer. \n",
    "\n",
    "### Convolution\n",
    "\n",
    "### Definition\n",
    "Given a two-dimensional image, **$I$**, and a small matrix **$K$** of size $h \\times w$, (known as _convolution kernel_), which encodes a way of extracting an intersting image feature, we compute the convolved image $I*K$, by overlaying the kernel on top of the image in all possible ways, and recording the sum of the elementwise products between the image and the kernel:\n",
    "\\begin{equation}\n",
    "(I*K)_{xy} = \\sum_{i=1}^h \\sum_{j=1}^w K_{ij} \\cdot I_{x+i-1,y+j-1}\n",
    " \\end{equation}\n",
    " \n",
    "![](https://i.imgur.com/zixMZWO.gif)\n",
    "\n",
    "Convolution takes advantage of the structure of the information encoded in the image - for example, pixels that are spatially closer will 'cooperate' in forming a feature more than pixels that are on opposite corners. In addition, if there is an important feature for defining the image's label, it will be equally important if this feature is found in the image, regardless of the location.\n",
    "\n",
    "\n",
    "### Pooling\n",
    "A pooling function replaces the output of the network at a certain location with a summary statistic of the nearby outputs. For example, the **max pooling** operation reports the maximum output within a rectangular neighbourhood as shown below. Other pooling functions include the average of a rectangular neighbourhood and a weighted average based on the distance from the central pixel.\n",
    "![](https://i.imgur.com/eg8q5Mr.png)\n",
    "Pooling helps to make the representation approximately invariant to small translations of the input. Invariance to translation means that if we shift the image by a few pixels, the values of the most of the pooled outputs do not change. For example, when determining whether an image contains a face, we do not need to know the precise location of the eyes, we just need to know that there is an eye on the left side of the face and another eye on the right side.\n",
    "\n",
    "### Back-propagation\n",
    "Like standard neural networks, CNN are trained by optimising their parameters such as to minimise a cost function. This process is usually down using a gradient based optimisation algorithm such as Stochastic Gradient Descent. Like in standard neural networks, back-probagation is used to find the gradient of the cost function of the CNN in terms of its parameters. Since, calculating the gradients using back-propagation can be a very involved process, especially in deep architecture, modern neural network software packages such as Tensorflow and Theano represent neural networks as computational graphs thus enabling back-propagation to be performed automatically and efficiently.\n",
    "\n",
    "### Putting It All Together: A Common CNN\n",
    "A typical CNN architecture consists of multiple alternating convolutional and pooling layers followed by a set of dense (fully-connected layers). The image below shows an example of a standard CNN architecutre.\n",
    "\n",
    "![](http://d3kbpzbmcynnmx.cloudfront.net/wp-content/uploads/2015/11/Screen-Shot-2015-11-07-at-7.26.20-AM.png)\n",
    "\n",
    "The intuition behind CNN architectures such as the one above is that the first few layers learn low-level features such as edges and texture, while the deeper layers learn more high-level features that are dataset specific such as typical object shape or facial features. This idea is illustrated in the figure below.\n",
    "![](http://vision03.csail.mit.edu/cnn_art/data/single_layer.png)\n",
    "\n",
    "### CNN  Example - CIFAR-10:\n",
    "We are going to demonstrate CNNs on the CIFAR-10 classification task. CIFAR-10 is a dataset consisting of 60000 32x32 RGB images each belonging to one of 10 classes. Here is a sample of the images.\n",
    "\n",
    "![](http://karpathy.github.io/assets/cifar_preview.png)\n",
    "\n",
    "We are going to train a CNN to classify images from this dataset into their correct classes. "
   ]
  },
  {
   "cell_type": "code",
   "execution_count": 1,
   "metadata": {
    "collapsed": false
   },
   "outputs": [
    {
     "name": "stderr",
     "output_type": "stream",
     "text": [
      "Using TensorFlow backend.\n"
     ]
    }
   ],
   "source": [
    "%matplotlib inline\n",
    "\n",
    "import numpy as np\n",
    "import matplotlib.pyplot as plt\n",
    "\n",
    "import keras\n",
    "from keras.datasets import cifar10\n",
    "from keras.models import Sequential\n",
    "from keras.layers import Dense, Dropout, Activation, Flatten\n",
    "from keras.layers import Conv2D, MaxPooling2D"
   ]
  },
  {
   "cell_type": "markdown",
   "metadata": {},
   "source": [
    "## Loading and exlporing the dataset:\n",
    "We start off by loading the dataset into memory. Fortunately, Keras has an in-built API to automatically download and load the CIFAR-10 dataset."
   ]
  },
  {
   "cell_type": "code",
   "execution_count": 2,
   "metadata": {
    "collapsed": false
   },
   "outputs": [
    {
     "name": "stdout",
     "output_type": "stream",
     "text": [
      "train_X shape: (50000, 32, 32, 3)\n",
      "Number of training examples: 50000\n",
      "Number of test examples: 10000\n"
     ]
    }
   ],
   "source": [
    "((train_X, train_Y), (test_X, test_Y)) = cifar10.load_data()\n",
    "print('train_X shape:', train_X.shape)\n",
    "print('Number of training examples:', train_X.shape[0])\n",
    "print('Number of test examples:', test_X.shape[0])"
   ]
  },
  {
   "cell_type": "code",
   "execution_count": 3,
   "metadata": {
    "collapsed": false
   },
   "outputs": [
    {
     "name": "stdout",
     "output_type": "stream",
     "text": [
      "There are 10 classes:\n",
      "[0 1 2 3 4 5 6 7 8 9]\n"
     ]
    }
   ],
   "source": [
    "classes = np.unique(train_Y)\n",
    "num_classes = classes.shape[0]\n",
    "print('There are', num_classes, 'classes:')\n",
    "print(classes)"
   ]
  },
  {
   "cell_type": "code",
   "execution_count": 4,
   "metadata": {
    "collapsed": true
   },
   "outputs": [],
   "source": [
    "class_dictionary = {\n",
    "    0:'airplane',\n",
    "    1:'automobile',\n",
    "    2:'bird',\n",
    "    3:'cat',\n",
    "    4:'deer',\n",
    "    5:'dog',\n",
    "    6:'frog',\n",
    "    7:'horse',\n",
    "    8:'ship',\n",
    "    9:'truck'\n",
    "}"
   ]
  },
  {
   "cell_type": "markdown",
   "metadata": {},
   "source": [
    "We can view random samples from the dataset using the code below. Feel free to change the value of `index` to view different samples from the dataset."
   ]
  },
  {
   "cell_type": "code",
   "execution_count": 5,
   "metadata": {
    "collapsed": false
   },
   "outputs": [
    {
     "name": "stdout",
     "output_type": "stream",
     "text": [
      "This is class: automobile\n"
     ]
    },
    {
     "data": {
      "image/png": "[encoded data removed]",
      "text/plain": [
       "<matplotlib.figure.Figure at 0x237e87752e8>"
      ]
     },
     "metadata": {},
     "output_type": "display_data"
    }
   ],
   "source": [
    "index = 140\n",
    "print('This is class:', class_dictionary[train_Y[index][0]])\n",
    "plt.imshow(train_X[index]);"
   ]
  },
  {
   "cell_type": "markdown",
   "metadata": {},
   "source": [
    "In order for our dataset to be compatible with the Keras API, we nee our labels to be represented using [one-hot encoding](https://www.quora.com/What-is-one-hot-encoding-and-when-is-it-used-in-data-science). We also want to convert the image representation from 8-bit (integer) rgb pixels to 32-bit floating points between 0 and 1."
   ]
  },
  {
   "cell_type": "code",
   "execution_count": 6,
   "metadata": {
    "collapsed": true
   },
   "outputs": [],
   "source": [
    "# Convert class label to one-hot encoded vector\n",
    "train_Y = keras.utils.to_categorical(train_Y, num_classes)\n",
    "test_Y = keras.utils.to_categorical(test_Y, num_classes)"
   ]
  },
  {
   "cell_type": "code",
   "execution_count": 7,
   "metadata": {
    "collapsed": true
   },
   "outputs": [],
   "source": [
    "# Convert the images to 32-bit float \n",
    "train_X = train_X.astype('float32')\n",
    "test_X = test_X.astype('float32')\n",
    "# Normalise the images from 0 to 1\n",
    "train_X = train_X/255\n",
    "test_X = test_X/255"
   ]
  },
  {
   "cell_type": "code",
   "execution_count": 8,
   "metadata": {
    "collapsed": true
   },
   "outputs": [],
   "source": [
    "train_XV=train_X.reshape(50000,3072)\n",
    "test_XV=test_X.reshape(10000,3072)"
   ]
  },
  {
   "cell_type": "markdown",
   "metadata": {},
   "source": [
    "* Example of a standard network with one hidden layer"
   ]
  },
  {
   "cell_type": "code",
   "execution_count": 10,
   "metadata": {
    "collapsed": false
   },
   "outputs": [
    {
     "name": "stdout",
     "output_type": "stream",
     "text": [
      "_________________________________________________________________\n",
      "Layer (type)                 Output Shape              Param #   \n",
      "=================================================================\n",
      "dense_3 (Dense)              (None, 64)                196672    \n",
      "_________________________________________________________________\n",
      "dense_4 (Dense)              (None, 10)                650       \n",
      "=================================================================\n",
      "Total params: 197,322\n",
      "Trainable params: 197,322\n",
      "Non-trainable params: 0\n",
      "_________________________________________________________________\n"
     ]
    }
   ],
   "source": [
    "model1=Sequential()\n",
    "model1.add(Dense(64,input_dim=3072,activation='relu'))\n",
    "model1.add(Dense(10,activation='softmax'))\n",
    "model1.compile(optimizer='rmsprop',loss='categorical_crossentropy',metrics=['accuracy'])\n",
    "model1.summary()"
   ]
  },
  {
   "cell_type": "code",
   "execution_count": 11,
   "metadata": {
    "collapsed": false
   },
   "outputs": [
    {
     "name": "stdout",
     "output_type": "stream",
     "text": [
      "Epoch 1/5\n",
      "50000/50000 [==============================] - 2s - loss: 2.1245 - acc: 0.2334     \n",
      "Epoch 2/5\n",
      "50000/50000 [==============================] - 1s - loss: 1.8824 - acc: 0.3249     \n",
      "Epoch 3/5\n",
      "50000/50000 [==============================] - 2s - loss: 1.8041 - acc: 0.3559     \n",
      "Epoch 4/5\n",
      "50000/50000 [==============================] - 2s - loss: 1.7589 - acc: 0.3721     \n",
      "Epoch 5/5\n",
      "50000/50000 [==============================] - 2s - loss: 1.7245 - acc: 0.3855     \n",
      " 8928/10000 [=========================>....] - ETA: 0s\n",
      "\n",
      "Number correctly estimated on test set 37.86 %\n"
     ]
    }
   ],
   "source": [
    "model1.fit(train_XV,train_Y,epochs=5,batch_size=128);\n",
    "score=model1.evaluate(test_XV,test_Y,batch_size=32);\n",
    "print(\"\\n\\nNumber correctly estimated on test set\",100*score[1],\"%\")"
   ]
  },
  {
   "cell_type": "markdown",
   "metadata": {},
   "source": [
    "---\n"
   ]
  },
  {
   "cell_type": "markdown",
   "metadata": {},
   "source": [
    "### Convolutional network that improves accuracy\n",
    "Modification of Ayman's and Iliana's model"
   ]
  },
  {
   "cell_type": "code",
   "execution_count": 14,
   "metadata": {
    "collapsed": true
   },
   "outputs": [],
   "source": [
    "model = Sequential()\n",
    "\n",
    "model.add(Conv2D(16, (3, 3), padding='same',input_shape=train_X.shape[1:],activation='relu'))\n",
    "model.add(Conv2D(16, (3, 3),activation='relu'))\n",
    "model.add(MaxPooling2D(pool_size=(2, 2)))\n",
    "\n",
    "model.add(Flatten())\n",
    "model.add(Dense(64,activation='relu'))\n",
    "model.add(Dense(num_classes,activation='softmax'))"
   ]
  },
  {
   "cell_type": "code",
   "execution_count": 15,
   "metadata": {
    "collapsed": false
   },
   "outputs": [
    {
     "name": "stdout",
     "output_type": "stream",
     "text": [
      "_________________________________________________________________\n",
      "Layer (type)                 Output Shape              Param #   \n",
      "=================================================================\n",
      "conv2d_1 (Conv2D)            (None, 32, 32, 16)        448       \n",
      "_________________________________________________________________\n",
      "conv2d_2 (Conv2D)            (None, 30, 30, 16)        2320      \n",
      "_________________________________________________________________\n",
      "max_pooling2d_1 (MaxPooling2 (None, 15, 15, 16)        0         \n",
      "_________________________________________________________________\n",
      "flatten_1 (Flatten)          (None, 3600)              0         \n",
      "_________________________________________________________________\n",
      "dense_5 (Dense)              (None, 64)                230464    \n",
      "_________________________________________________________________\n",
      "dense_6 (Dense)              (None, 10)                650       \n",
      "=================================================================\n",
      "Total params: 233,882\n",
      "Trainable params: 233,882\n",
      "Non-trainable params: 0\n",
      "_________________________________________________________________\n"
     ]
    }
   ],
   "source": [
    "model.summary()"
   ]
  },
  {
   "cell_type": "code",
   "execution_count": 16,
   "metadata": {
    "collapsed": false
   },
   "outputs": [],
   "source": [
    "# Initialise SGD optimiser\n",
    "model.compile(optimizer='rmsprop',loss='categorical_crossentropy',metrics=['accuracy'])"
   ]
  },
  {
   "cell_type": "code",
   "execution_count": 17,
   "metadata": {
    "collapsed": false
   },
   "outputs": [
    {
     "name": "stdout",
     "output_type": "stream",
     "text": [
      "Epoch 1/5\n",
      "50000/50000 [==============================] - 43s - loss: 1.6905 - acc: 0.3965    \n",
      "Epoch 2/5\n",
      "50000/50000 [==============================] - 44s - loss: 1.3359 - acc: 0.5293    \n",
      "Epoch 3/5\n",
      "50000/50000 [==============================] - 43s - loss: 1.1787 - acc: 0.5872    \n",
      "Epoch 4/5\n",
      "50000/50000 [==============================] - 42s - loss: 1.0713 - acc: 0.6279    \n",
      "Epoch 5/5\n",
      "50000/50000 [==============================] - 42s - loss: 0.9919 - acc: 0.6543    \n",
      " 9952/10000 [============================>.] - ETA: 0s\n",
      "\n",
      "Number correctly estimated  60.01 %\n"
     ]
    }
   ],
   "source": [
    "model.fit(train_X, train_Y,batch_size=128,epochs=5,shuffle=True)\n",
    "score=model.evaluate(test_X,test_Y,batch_size=32);\n",
    "print(\"\\n\\nNumber correctly estimated \",100*score[1],\"%\")"
   ]
  },
  {
   "cell_type": "markdown",
   "metadata": {},
   "source": [
    "---\n"
   ]
  },
  {
   "cell_type": "code",
   "execution_count": null,
   "metadata": {
    "collapsed": false,
    "scrolled": true
   },
   "outputs": [],
   "source": [
    "# Reload the data again to strip down to 4 classes\n",
    "((train_X, train_Y), (test_X, test_Y)) = cifar10.load_data()\n",
    "\n",
    "# Convert the images to 32-bit float \n",
    "train_X = train_X.astype('float32')\n",
    "test_X = test_X.astype('float32')\n",
    "# Normalise the images from 0 to 1\n",
    "train_X = train_X/255\n",
    "test_X = test_X/255\n",
    "\n",
    "\n",
    "# fix the training set\n",
    "s0=np.where(train_Y==0)[0] # 0 airplanes\n",
    "s1=np.where(train_Y==1)[0] # 1 automobiles\n",
    "s2=np.where(train_Y==3)[0] # 2 cats\n",
    "s3=np.where(train_Y==7)[0] # 3 horses\n",
    "\n",
    "train_Y[s2]=2\n",
    "train_Y[s3]=3\n",
    "s=np.hstack([s0,s1,s2,s3])\n",
    "mix=np.random.permutation(s.shape[0])\n",
    "smix=s[mix]\n",
    "\n",
    "train_X4=train_X[smix,:,:,:]\n",
    "train_Y4=train_Y[smix]\n",
    "\n",
    "plt.figure(figsize=(16,9))\n",
    "for k in range(6):\n",
    "    plt.subplot(1,6,k+1)\n",
    "    plt.imshow(train_X4[k,:,:,:])\n",
    "    plt.title(train_Y4[k])\n",
    "    plt.axis(\"off\")\n",
    "\n",
    "# fix the test set \n",
    "s0=np.where(test_Y==0)[0] # 0 airplanes\n",
    "s1=np.where(test_Y==1)[0] # 1 automobiles\n",
    "s2=np.where(test_Y==3)[0] # 2 cats\n",
    "s3=np.where(test_Y==7)[0] # 3 horses\n",
    "\n",
    "test_Y[s2]=2\n",
    "test_Y[s3]=3\n",
    "s=np.hstack([s0,s1,s2,s3])\n",
    "mix=np.random.permutation(s.shape[0])\n",
    "smix=s[mix]\n",
    "\n",
    "test_X4=test_X[smix,:,:,:]\n",
    "test_Y4=test_Y[smix]\n",
    "\n",
    "plt.figure(figsize=(16,9))\n",
    "for k in range(6):\n",
    "    plt.subplot(1,6,k+1)\n",
    "    plt.imshow(test_X4[k,:,:,:])\n",
    "    plt.title(test_Y4[k])\n",
    "    plt.axis(\"off\")\n",
    "    \n",
    "# change to one-hot encoding for the target    \n",
    "train_Y4 = keras.utils.to_categorical(train_Y4, 4)\n",
    "test_Y4 = keras.utils.to_categorical(test_Y4, 4)\n",
    "    \n"
   ]
  },
  {
   "cell_type": "code",
   "execution_count": null,
   "metadata": {
    "collapsed": true
   },
   "outputs": [],
   "source": []
  },
  {
   "cell_type": "markdown",
   "metadata": {},
   "source": [
    "* Training data is train_X4, train_Y3\n",
    "* Test data is test_X4, test_Y4"
   ]
  },
  {
   "cell_type": "markdown",
   "metadata": {
    "collapsed": true
   },
   "source": [
    "### Q1. The competition!\n",
    "\n",
    "We will use the stripped down version of cifar10 that contains only 4 classes.\n",
    "\n",
    "* Construct a neural network that gets the highest classification on the test set.\n",
    "* The group with the highest percentage wins!\n",
    "* ***Do not use the test set for training*** - we will check the winning submission.\n",
    "* Good luck!"
   ]
  },
  {
   "cell_type": "code",
   "execution_count": null,
   "metadata": {
    "collapsed": false
   },
   "outputs": [],
   "source": [
    "model = Sequential()\n",
    "\n",
    "model.add(Conv2D(16, (3, 3),padding='same',input_shape=train_X4.shape[1:],activation='relu'))\n",
    "model.add(Conv2D(16, (3, 3),activation='relu'))\n",
    "model.add(MaxPooling2D(pool_size=(2, 2)))\n",
    "\n",
    "model.add(Flatten())\n",
    "model.add(Dense(64,activation='relu'))\n",
    "model.add(Dense(4,activation='softmax'))\n",
    "model.summary()"
   ]
  },
  {
   "cell_type": "code",
   "execution_count": null,
   "metadata": {
    "collapsed": false
   },
   "outputs": [],
   "source": [
    "# Initialise SGD optimiser\n",
    "from keras.layers import Input\n",
    "from keras.utils import np_utils\n",
    "\n",
    "batch_size = 32 # in each iteration, we consider 32 training examples at once\n",
    "num_epochs = 20 # we iterate 200 times over the entire training set\n",
    "kernel_size = 3 # we will use 3x3 kernels throughout\n",
    "pool_size = 2 # we will use 2x2 pooling throughout\n",
    "conv_depth_1 = 32 # we will initially have 32 kernels per conv. layer...\n",
    "conv_depth_2 = 64 # ...switching to 64 after the first pooling layer\n",
    "drop_prob_1 = 0.25 # dropout after pooling with probability 0.25\n",
    "drop_prob_2 = 0.5 # dropout in the FC layer with probability 0.5\n",
    "hidden_size = 512 # the FC layer will have 512 neurons\n",
    "\n",
    "num_train, height, width, depth = train_X4.shape\n",
    "\n",
    "inp = Input(shape=(height, width, depth))\n",
    "\n",
    "# Conv [32] -> Conv [32] -> Pool (with dropout on the pooling layer)\n",
    "conv_1 = Conv2D(conv_depth_1, (kernel_size, kernel_size), padding='same', activation='relu')(inp)\n",
    "conv_2 = Conv2D(conv_depth_1, (kernel_size, kernel_size), padding='same', activation='relu')(conv_1)\n",
    "pool_1 = MaxPooling2D(pool_size=(pool_size, pool_size))(conv_2)\n",
    "drop_1 = Dropout(drop_prob_1)(pool_1)\n",
    "# Conv [64] -> Conv [64] -> Pool (with dropout on the pooling layer)\n",
    "conv_3 = Conv2D(conv_depth_2, (kernel_size, kernel_size), padding='same', activation='relu')(drop_1)\n",
    "conv_4 = Conv2D(conv_depth_2, (kernel_size, kernel_size), padding='same', activation='relu')(conv_3)\n",
    "pool_2 = MaxPooling2D(pool_size=(pool_size, pool_size))(conv_4)\n",
    "drop_2 = Dropout(drop_prob_1)(pool_2)\n",
    "# Now flatten to 1D, apply FC -> ReLU (with dropout) -> softmax\n",
    "flat = Flatten()(drop_2)\n",
    "hidden = Dense(hidden_size, activation='relu')(flat)\n",
    "drop_3 = Dropout(drop_prob_2)(hidden)\n",
    "out = Dense(num_classes, activation='softmax')(drop_3)\n",
    "\n",
    "model = model(inputs=inp, outputs=out) # To define a model, just specify its input and output layers\n",
    "model.summary()"
   ]
  },
  {
   "cell_type": "code",
   "execution_count": null,
   "metadata": {
    "collapsed": true
   },
   "outputs": [],
   "source": [
    "opt = keras.optimizers.SGD(lr=0.1)\n",
    "opt1 = keras.optimizers.Adam(lr=0.001, beta_1=0.93, beta_2=0.999, epsilon=1e-08, decay=0.0)\n",
    "model.compile(loss='categorical_crossentropy',optimizer=opt,metrics=['accuracy'])"
   ]
  },
  {
   "cell_type": "code",
   "execution_count": null,
   "metadata": {
    "collapsed": false
   },
   "outputs": [],
   "source": [
    "model.fit(train_X4, train_Y4,batch_size=256,epochs=5,shuffle=True)\n",
    "\n",
    "score=model.evaluate(test_X4,test_Y4,batch_size=32);\n",
    "\n",
    "print(\"\\n\\nNumber correctly estimated \",100*score[1],\"%\")"
   ]
  },
  {
   "cell_type": "code",
   "execution_count": null,
   "metadata": {
    "collapsed": true
   },
   "outputs": [],
   "source": []
  }
 ],
 "metadata": {
  "anaconda-cloud": {},
  "kernelspec": {
   "display_name": "Python [conda env:tensorflow]",
   "language": "python",
   "name": "conda-env-tensorflow-py"
  },
  "language_info": {
   "codemirror_mode": {
    "name": "ipython",
    "version": 3
   },
   "file_extension": ".py",
   "mimetype": "text/x-python",
   "name": "python",
   "nbconvert_exporter": "python",
   "pygments_lexer": "ipython3",
   "version": "3.5.3"
  }
 },
 "nbformat": 4,
 "nbformat_minor": 2
}

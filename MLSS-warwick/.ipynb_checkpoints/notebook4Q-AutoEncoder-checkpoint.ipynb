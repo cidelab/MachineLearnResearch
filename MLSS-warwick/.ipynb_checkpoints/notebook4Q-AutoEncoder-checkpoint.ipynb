{
 "cells": [
  {
   "cell_type": "markdown",
   "metadata": {},
   "source": [
    "### Notebook 4 - Autoencoders\n",
    "\n",
    "An **autoencoder** is a machine-learning algorithm that is trained to copy its input (or some corrupted version thereof) to its output. The hidden layers, which describe the **latent representation** of the input data, typically have a lower dimensionality than the input and output.\n",
    "\n",
    "In this section we look at two applications of autoencoders. \n",
    "* Removing noise from images  \n",
    "* Compression of data"
   ]
  },
  {
   "cell_type": "code",
   "execution_count": 1,
   "metadata": {
    "collapsed": false
   },
   "outputs": [
    {
     "name": "stderr",
     "output_type": "stream",
     "text": [
      "Using TensorFlow backend.\n"
     ]
    }
   ],
   "source": [
    "# We now load the libraries that are required.\n",
    "import matplotlib \n",
    "import matplotlib.pyplot as plt\n",
    "%matplotlib inline\n",
    "\n",
    "import numpy as np\n",
    "import tensorflow\n",
    "import keras\n",
    "\n",
    "from keras.models import Sequential\n",
    "from keras.layers import Dense, Activation\n",
    "from keras.utils import np_utils\n",
    "\n",
    "from keras.datasets import mnist\n"
   ]
  },
  {
   "cell_type": "markdown",
   "metadata": {},
   "source": [
    "* Load the data set, reshape and assign to variables"
   ]
  },
  {
   "cell_type": "code",
   "execution_count": 2,
   "metadata": {
    "collapsed": true
   },
   "outputs": [],
   "source": [
    "# Load the MNIST data \n",
    "(x_train, y_train), (x_test, y_test) = mnist.load_data()"
   ]
  },
  {
   "cell_type": "code",
   "execution_count": 3,
   "metadata": {
    "collapsed": true
   },
   "outputs": [],
   "source": [
    "# Normalize data\n",
    "x_trainR = x_train.astype('float32') / 255.\n",
    "x_testR = x_test.astype('float32') / 255.\n",
    "\n",
    "x_trainV=x_trainR.reshape(60000,784)\n",
    "x_testV=x_testR.reshape(10000,784)"
   ]
  },
  {
   "cell_type": "markdown",
   "metadata": {},
   "source": [
    "### Plot images of the first 5 numbers"
   ]
  },
  {
   "cell_type": "code",
   "execution_count": 4,
   "metadata": {
    "collapsed": false
   },
   "outputs": [
    {
     "data": {
      "image/png": "[encoded data removed]",
      "text/plain": [
       "<matplotlib.figure.Figure at 0x1dbbfe42c88>"
      ]
     },
     "metadata": {},
     "output_type": "display_data"
    }
   ],
   "source": [
    "for n in range(5):\n",
    "    plt.subplot(1,5,n+1)\n",
    "    plt.imshow(x_trainR[n,:,:],cmap='gray');\n",
    "    plt.axis(\"off\")\n",
    "    "
   ]
  },
  {
   "cell_type": "markdown",
   "metadata": {},
   "source": [
    "---"
   ]
  },
  {
   "cell_type": "markdown",
   "metadata": {},
   "source": [
    "For Q1-Q3 we will be teaching a network to remove noise from data. The method will be to create a network that takes in noisy images and has the original image as a target output. We can then evaluate how good the network is at removing noise from images it has not seen before (using the test set).\n",
    "\n",
    "### Q1. Create a new data set of noisy images.\n",
    "\n",
    "* Create two new training and test data sets that have gaussian noise of standard deviation $\\sigma$ added to them. These sets should be the same size as the original sets (don't overwrite them).\n",
    "* Make sure that the pixel entries are between 0 and 1 still. The command np.clip(M,0,1) will be of use\n",
    "* Plot the first 5 original and noisy versions as two rows.\n"
   ]
  },
  {
   "cell_type": "code",
   "execution_count": null,
   "metadata": {
    "collapsed": true
   },
   "outputs": [],
   "source": [
    "sigma = 0.4\n",
    "\n",
    "x_train_noise=sigma*np.random.randn(60000)"
   ]
  },
  {
   "cell_type": "markdown",
   "metadata": {},
   "source": [
    "### Q2. Building the neural network\n",
    "* Construct a neural network model that takes in the images, has one or more hidden layers and outputs a vector the same size as the input with a sigmoid activation.\n",
    "* Use the summary command to check the shape of the model.\n",
    "* Compile the model, but this time use a mean-squared error (i.e. loss='mse') as the cost function.\n",
    "* Fit the model using the noisy training data as an input and the clean training data as an output."
   ]
  },
  {
   "cell_type": "code",
   "execution_count": null,
   "metadata": {
    "collapsed": true
   },
   "outputs": [],
   "source": []
  },
  {
   "cell_type": "markdown",
   "metadata": {},
   "source": [
    "### Q3. Evaluating the performance of the model\n",
    "* Generate the output of the model using the noisy **test** data.\n",
    "* For some example data sets plot the noisy input image, the denoised image as well as the original clean image to evaluate the denoiser you have constructed.\n",
    "* If you have time: create another set of data with a different level of noise. How well does your first network denoise the data when the strength of the noise is changed? "
   ]
  },
  {
   "cell_type": "code",
   "execution_count": null,
   "metadata": {
    "collapsed": true
   },
   "outputs": [],
   "source": []
  },
  {
   "cell_type": "markdown",
   "metadata": {
    "collapsed": true
   },
   "source": [
    "---"
   ]
  },
  {
   "cell_type": "markdown",
   "metadata": {
    "collapsed": true
   },
   "source": [
    "### Q4 Compressing data with autoencoders\n",
    "We now go back to using the original images and seek to build a network that can compress the data. This is achieved by having an input and output layer the same size, but an intermediate layer that is much smaller (in this case two neurons) potentially sandwiched between additional hidden layers.\n",
    "* Define a model that has three hidden layers, with the middle hidden layer having two neurons. You can choose the size of the first and third hidden layers.\n",
    "* Train the network so that the target of the network is the same as the input.\n",
    "* It will make sense to use the loss='mse' cost function again.\n",
    "* Get the predictions from the model using the test data and compare the output to the input for a range of numbers."
   ]
  },
  {
   "cell_type": "code",
   "execution_count": null,
   "metadata": {
    "collapsed": true
   },
   "outputs": [],
   "source": []
  },
  {
   "cell_type": "markdown",
   "metadata": {},
   "source": [
    "### Q5 Investigating the hidden layers.\n",
    "We would like to get information on what the states are of the hidden layers. The way we do this in Keras is to build two half networks. One that goes down to the middle layer and one that goes from the middle layer to the outer layer. We can call these two models halfinmodel and halfoutmodel. We can copy the weights from the original network into the half networks using the commands weights=model.layers[0].get_weights(), for example\n",
    "\n",
    "halfinmodel.add(Dense(128, input_dim=784,activation='relu',weights=model.layers[0].get_weights()))\n",
    "\n",
    "* Build the half in and half out models."
   ]
  },
  {
   "cell_type": "code",
   "execution_count": null,
   "metadata": {
    "collapsed": true
   },
   "outputs": [],
   "source": []
  },
  {
   "cell_type": "markdown",
   "metadata": {},
   "source": [
    "### Q6 The middle layer as points on the x-y plane.\n",
    "* Extract the activiations in the middle layer using the prediction function on the half in model with the training data as input.\n",
    "* Plot the data on the x-y plane, colour-coded by number. Note: it is easier to visualise if you plot the data on a log scale and do two graphs, one with 0-4 and another with 5-9."
   ]
  },
  {
   "cell_type": "code",
   "execution_count": null,
   "metadata": {
    "collapsed": true
   },
   "outputs": [],
   "source": []
  },
  {
   "cell_type": "markdown",
   "metadata": {},
   "source": [
    "### Q7. Finally, for \"fun\"...\n",
    "* Pick coordinates from the x-y plane, perhaps where there are none of the data, and run them through the half-out model to create \"new\" digits that are neither one number or another."
   ]
  },
  {
   "cell_type": "code",
   "execution_count": null,
   "metadata": {
    "collapsed": true
   },
   "outputs": [],
   "source": []
  }
 ],
 "metadata": {
  "anaconda-cloud": {},
  "kernelspec": {
   "display_name": "Python [conda env:tensorflow]",
   "language": "python",
   "name": "conda-env-tensorflow-py"
  },
  "language_info": {
   "codemirror_mode": {
    "name": "ipython",
    "version": 3
   },
   "file_extension": ".py",
   "mimetype": "text/x-python",
   "name": "python",
   "nbconvert_exporter": "python",
   "pygments_lexer": "ipython3",
   "version": "3.5.3"
  }
 },
 "nbformat": 4,
 "nbformat_minor": 2
}

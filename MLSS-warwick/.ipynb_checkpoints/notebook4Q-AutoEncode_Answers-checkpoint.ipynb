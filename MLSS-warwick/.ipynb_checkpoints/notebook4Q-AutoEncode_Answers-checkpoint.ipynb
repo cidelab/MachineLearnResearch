{
 "cells": [
  {
   "cell_type": "markdown",
   "metadata": {},
   "source": [
    "### Notebook 4 - Autoencoders\n",
    "\n",
    "An **autoencoder** is a machine-learning algorithm that is trained to copy its input (or some corrupted version thereof) to its output. The hidden layers, which describe the **latent representation** of the input data, typically have a lower dimensionality than the input and output.\n",
    "\n",
    "In this section we look at two applications of autoencoders. \n",
    "* Removing noise from images  \n",
    "* Compression of data"
   ]
  },
  {
   "cell_type": "code",
   "execution_count": 2,
   "metadata": {
    "collapsed": false
   },
   "outputs": [
    {
     "name": "stderr",
     "output_type": "stream",
     "text": [
      "Using TensorFlow backend.\n"
     ]
    }
   ],
   "source": [
    "# We now load the libraries that are required.\n",
    "import matplotlib \n",
    "import matplotlib.pyplot as plt\n",
    "%matplotlib inline\n",
    "\n",
    "import numpy as np\n",
    "import tensorflow\n",
    "import keras\n",
    "\n",
    "from keras.models import Sequential\n",
    "from keras.layers import Dense, Activation\n",
    "from keras.utils import np_utils\n",
    "\n",
    "from keras.datasets import mnist\n"
   ]
  },
  {
   "cell_type": "markdown",
   "metadata": {},
   "source": [
    "* Load the data set, reshape and assign to variables"
   ]
  },
  {
   "cell_type": "code",
   "execution_count": 3,
   "metadata": {
    "collapsed": true
   },
   "outputs": [],
   "source": [
    "# Load the MNIST data \n",
    "(x_train, y_train), (x_test, y_test) = mnist.load_data()"
   ]
  },
  {
   "cell_type": "code",
   "execution_count": 4,
   "metadata": {
    "collapsed": true
   },
   "outputs": [],
   "source": [
    "# Normalize data\n",
    "x_trainR = x_train.astype('float32') / 255.\n",
    "x_testR = x_test.astype('float32') / 255.\n",
    "\n",
    "x_trainV=x_trainR.reshape(60000,784)\n",
    "x_testV=x_testR.reshape(10000,784)"
   ]
  },
  {
   "cell_type": "markdown",
   "metadata": {},
   "source": [
    "### Plot images of the first 5 numbers"
   ]
  },
  {
   "cell_type": "code",
   "execution_count": 5,
   "metadata": {
    "collapsed": false
   },
   "outputs": [
    {
     "data": {
      "image/png": "[encoded data removed]",
      "text/plain": [
       "<matplotlib.figure.Figure at 0x12284f2e8>"
      ]
     },
     "metadata": {},
     "output_type": "display_data"
    }
   ],
   "source": [
    "for n in range(5):\n",
    "    plt.subplot(1,5,n+1)\n",
    "    plt.imshow(x_trainR[n,:,:],cmap='gray');\n",
    "    plt.axis(\"off\")\n",
    "    "
   ]
  },
  {
   "cell_type": "markdown",
   "metadata": {},
   "source": [
    "---"
   ]
  },
  {
   "cell_type": "markdown",
   "metadata": {},
   "source": [
    "For Q1-Q3 we will be teaching a network to remove noise from data. The method will be to create a network that takes in noisy images and has the original image as a target output. We can then evaluate how good the network is at removing noise from images it has not seen before (using the test set).\n",
    "\n",
    "### Q1. Create a new data set of noisy images.\n",
    "\n",
    "* Create two new training and test data sets that have gaussian noise of standard deviation $\\sigma$ added to them. These sets should be the same size as the original sets (don't overwrite them).\n",
    "* Make sure that the pixel entries are between 0 and 1 still. The command np.clip(M,0,1) will be of use\n",
    "* Plot the first 5 original and noisy versions as two rows.\n"
   ]
  },
  {
   "cell_type": "code",
   "execution_count": 6,
   "metadata": {
    "collapsed": false
   },
   "outputs": [
    {
     "data": {
      "image/png": "[encoded data removed]",
      "text/plain": [
       "<matplotlib.figure.Figure at 0x11c6bf978>"
      ]
     },
     "metadata": {},
     "output_type": "display_data"
    }
   ],
   "source": [
    "# First lets create noisy images\n",
    "sigma = 0.4\n",
    "\n",
    "x_train_noise=sigma*np.random.randn(60000,784)\n",
    "x_test_noise=sigma*np.random.randn(10000,784)\n",
    "\n",
    "x_trainN = x_trainV + sigma*np.random.randn(60000,784)\n",
    "x_testN = x_testV + sigma*np.random.randn(10000,784)\n",
    "\n",
    "x_trainN = np.clip(x_trainN, 0, 1)\n",
    "x_testN = np.clip(x_testN, 0, 1)\n",
    "\n",
    "for k in range(4):\n",
    "    plt.subplot(2,4,k+1)\n",
    "    plt.imshow(x_trainN[k,:].reshape(28,28),cmap='gray')\n",
    "    plt.axis(\"off\")\n",
    "\n",
    "    plt.subplot(2,4,k+1+4)\n",
    "    plt.imshow(x_trainV[k,:].reshape(28,28),cmap='gray')\n",
    "    plt.axis(\"off\")"
   ]
  },
  {
   "cell_type": "markdown",
   "metadata": {},
   "source": [
    "### Q2. Building the neural network\n",
    "* Construct a neural network model that takes in the images, has one or more hidden layers and outputs a vector the same size as the input with a sigmoid activation.\n",
    "* Use the summary command to check the shape of the model.\n",
    "* Compile the model, but this time use a mean-squared error (i.e. loss='mse') as the cost function.\n",
    "* Fit the model using the noisy training data as an input and the clean training data as an output."
   ]
  },
  {
   "cell_type": "code",
   "execution_count": 7,
   "metadata": {
    "collapsed": false
   },
   "outputs": [
    {
     "name": "stdout",
     "output_type": "stream",
     "text": [
      "_________________________________________________________________\n",
      "Layer (type)                 Output Shape              Param #   \n",
      "=================================================================\n",
      "dense_1 (Dense)              (None, 48)                37680     \n",
      "_________________________________________________________________\n",
      "dense_2 (Dense)              (None, 784)               38416     \n",
      "=================================================================\n",
      "Total params: 76,096\n",
      "Trainable params: 76,096\n",
      "Non-trainable params: 0\n",
      "_________________________________________________________________\n"
     ]
    }
   ],
   "source": [
    "model=Sequential()\n",
    "model.add(Dense(48, input_dim=784,activation='relu'))\n",
    "model.add(Dense(784,activation='sigmoid'))\n",
    "model.summary()"
   ]
  },
  {
   "cell_type": "code",
   "execution_count": 8,
   "metadata": {
    "collapsed": true
   },
   "outputs": [],
   "source": [
    "model.compile(optimizer='rmsprop',loss='mse',metrics=['accuracy'])"
   ]
  },
  {
   "cell_type": "code",
   "execution_count": 9,
   "metadata": {
    "collapsed": false
   },
   "outputs": [
    {
     "name": "stdout",
     "output_type": "stream",
     "text": [
      "Epoch 1/10\n",
      "60000/60000 [==============================] - 2s - loss: 0.0548 - acc: 0.0104     \n",
      "Epoch 2/10\n",
      "60000/60000 [==============================] - 2s - loss: 0.0299 - acc: 0.0103     \n",
      "Epoch 3/10\n",
      "60000/60000 [==============================] - 2s - loss: 0.0237 - acc: 0.0106     \n",
      "Epoch 4/10\n",
      "60000/60000 [==============================] - 2s - loss: 0.0206 - acc: 0.0105     \n",
      "Epoch 5/10\n",
      "60000/60000 [==============================] - 2s - loss: 0.0188 - acc: 0.0099     \n",
      "Epoch 6/10\n",
      "60000/60000 [==============================] - 2s - loss: 0.0175 - acc: 0.0103     \n",
      "Epoch 7/10\n",
      "60000/60000 [==============================] - 2s - loss: 0.0166 - acc: 0.0109     \n",
      "Epoch 8/10\n",
      "60000/60000 [==============================] - 3s - loss: 0.0160 - acc: 0.0112     \n",
      "Epoch 9/10\n",
      "60000/60000 [==============================] - 3s - loss: 0.0155 - acc: 0.0115     \n",
      "Epoch 10/10\n",
      "60000/60000 [==============================] - 2s - loss: 0.0151 - acc: 0.0121     \n"
     ]
    },
    {
     "data": {
      "text/plain": [
       "<keras.callbacks.History at 0x130efce48>"
      ]
     },
     "execution_count": 9,
     "metadata": {},
     "output_type": "execute_result"
    }
   ],
   "source": [
    "model.fit(x_trainN,x_trainV,epochs=10,batch_size=256)"
   ]
  },
  {
   "cell_type": "markdown",
   "metadata": {},
   "source": [
    "### Q3. Evaluating the performance of the model\n",
    "* Generate the output of the model using the noisy **test** data.\n",
    "* For some example data sets plot the noisy input image, the denoised image as well as the original clean image to evaluate the denoiser you have constructed.\n",
    "* If you have time: create another set of data with a different level of noise. How well does your first network denoise the data when the strength of the noise is changed? "
   ]
  },
  {
   "cell_type": "code",
   "execution_count": 10,
   "metadata": {
    "collapsed": true
   },
   "outputs": [],
   "source": [
    "P=model.predict(x_testN)"
   ]
  },
  {
   "cell_type": "code",
   "execution_count": 11,
   "metadata": {
    "collapsed": false
   },
   "outputs": [
    {
     "data": {
      "image/png": "[encoded data removed]",
      "text/plain": [
       "<matplotlib.figure.Figure at 0x130ffa898>"
      ]
     },
     "metadata": {},
     "output_type": "display_data"
    }
   ],
   "source": [
    "n=10\n",
    "plt.subplot(131)\n",
    "plt.imshow(x_testN[n,:].reshape(28,28),cmap='gray')\n",
    "plt.axis(\"off\")\n",
    "\n",
    "plt.subplot(132)\n",
    "plt.imshow(P[n,:].reshape(28,28),cmap='gray')\n",
    "plt.axis(\"off\")\n",
    "\n",
    "plt.subplot(133)\n",
    "plt.imshow(x_testV[n,:].reshape(28,28),cmap='gray')\n",
    "plt.axis(\"off\");"
   ]
  },
  {
   "cell_type": "markdown",
   "metadata": {
    "collapsed": true
   },
   "source": [
    "---"
   ]
  },
  {
   "cell_type": "markdown",
   "metadata": {
    "collapsed": true
   },
   "source": [
    "### Q4 Compressing data with autoencoders\n",
    "We now go back to using the original images and seek to build a network that can compress the data. This is achieved by having an input and output layer the same size, but an intermediate layer that is much smaller (in this case two neurons) potentially sandwiched between additional hidden layers.\n",
    "* Define a model that has three hidden layers, with the middle hidden layer having two neurons. You can choose the size of the first and third hidden layers.\n",
    "* Train the network so that the target of the network is the same as the input.\n",
    "* It will make sense to use the loss='mse' cost function again.\n",
    "* Get the predictions from the model using the test data and compare the output to the input for a range of numbers."
   ]
  },
  {
   "cell_type": "code",
   "execution_count": 12,
   "metadata": {
    "collapsed": false
   },
   "outputs": [
    {
     "name": "stdout",
     "output_type": "stream",
     "text": [
      "_________________________________________________________________\n",
      "Layer (type)                 Output Shape              Param #   \n",
      "=================================================================\n",
      "dense_3 (Dense)              (None, 128)               100480    \n",
      "_________________________________________________________________\n",
      "dense_4 (Dense)              (None, 2)                 258       \n",
      "_________________________________________________________________\n",
      "dense_5 (Dense)              (None, 128)               384       \n",
      "_________________________________________________________________\n",
      "dense_6 (Dense)              (None, 784)               101136    \n",
      "=================================================================\n",
      "Total params: 202,258\n",
      "Trainable params: 202,258\n",
      "Non-trainable params: 0\n",
      "_________________________________________________________________\n"
     ]
    }
   ],
   "source": [
    "model=Sequential()\n",
    "model.add(Dense(128, input_dim=784,activation='relu'))\n",
    "model.add(Dense(2,activation='relu'))\n",
    "model.add(Dense(128,activation='relu'))\n",
    "model.add(Dense(784,activation='sigmoid'))\n",
    "model.summary()"
   ]
  },
  {
   "cell_type": "code",
   "execution_count": 13,
   "metadata": {
    "collapsed": false
   },
   "outputs": [
    {
     "name": "stdout",
     "output_type": "stream",
     "text": [
      "Epoch 1/10\n",
      "60000/60000 [==============================] - 3s - loss: 0.0668 - acc: 0.0148     \n",
      "Epoch 2/10\n",
      "60000/60000 [==============================] - 3s - loss: 0.0552 - acc: 0.0148     \n",
      "Epoch 3/10\n",
      "60000/60000 [==============================] - 3s - loss: 0.0529 - acc: 0.0114     \n",
      "Epoch 4/10\n",
      "60000/60000 [==============================] - 3s - loss: 0.0518 - acc: 0.0107     \n",
      "Epoch 5/10\n",
      "60000/60000 [==============================] - 3s - loss: 0.0509 - acc: 0.0104     \n",
      "Epoch 6/10\n",
      "60000/60000 [==============================] - 3s - loss: 0.0501 - acc: 0.0103     \n",
      "Epoch 7/10\n",
      "60000/60000 [==============================] - 3s - loss: 0.0494 - acc: 0.0114     \n",
      "Epoch 8/10\n",
      "60000/60000 [==============================] - 3s - loss: 0.0488 - acc: 0.0120     \n",
      "Epoch 9/10\n",
      "60000/60000 [==============================] - 3s - loss: 0.0483 - acc: 0.0134     \n",
      "Epoch 10/10\n",
      "60000/60000 [==============================] - 3s - loss: 0.0478 - acc: 0.0137     \n"
     ]
    },
    {
     "data": {
      "text/plain": [
       "<keras.callbacks.History at 0x12cd1c748>"
      ]
     },
     "execution_count": 13,
     "metadata": {},
     "output_type": "execute_result"
    }
   ],
   "source": [
    "model.compile(optimizer='rmsprop',loss='mse',metrics=['accuracy'])\n",
    "model.fit(x_trainV,x_trainV,epochs=10,batch_size=256)"
   ]
  },
  {
   "cell_type": "code",
   "execution_count": 14,
   "metadata": {
    "collapsed": false
   },
   "outputs": [
    {
     "data": {
      "image/png": "[encoded data removed]",
      "text/plain": [
       "<matplotlib.figure.Figure at 0x12cd005c0>"
      ]
     },
     "metadata": {},
     "output_type": "display_data"
    }
   ],
   "source": [
    "P=model.predict(x_testV)\n",
    "n=561\n",
    "plt.subplot(121)\n",
    "plt.imshow(x_testV[n,:].reshape(28,28),cmap='gray')\n",
    "plt.axis(\"off\")\n",
    "\n",
    "plt.subplot(122)\n",
    "plt.imshow(P[n,:].reshape(28,28),cmap='gray')\n",
    "plt.axis(\"off\");"
   ]
  },
  {
   "cell_type": "markdown",
   "metadata": {},
   "source": [
    "### Q5 Investigating the hidden layers.\n",
    "We would like to get information on what the states are of the hidden layers. The way we do this in Keras is to build two half networks. One that goes down to the middle layer and one that goes from the middle layer to the outer layer. We can call these two models halfinmodel and halfoutmodel. We can copy the weights from the original network into the half networks using the commands weights=model.layers[0].get_weights(), for example\n",
    "\n",
    "halfinmodel.add(Dense(128, input_dim=784,activation='relu',weights=model.layers[0].get_weights()))\n",
    "\n",
    "* Build the half in and half out models."
   ]
  },
  {
   "cell_type": "code",
   "execution_count": 15,
   "metadata": {
    "collapsed": true
   },
   "outputs": [],
   "source": [
    "halfinmodel=Sequential()\n",
    "halfinmodel.add(Dense(128, input_dim=784,activation='relu',weights=model.layers[0].get_weights()))\n",
    "halfinmodel.add(Dense(2,activation='relu',weights=model.layers[1].get_weights()))\n",
    "\n",
    "halfoutmodel=Sequential()\n",
    "halfoutmodel.add(Dense(128,input_dim=2,activation='relu',weights=model.layers[2].get_weights()))\n",
    "halfoutmodel.add(Dense(784,activation='sigmoid',weights=model.layers[3].get_weights()))"
   ]
  },
  {
   "cell_type": "code",
   "execution_count": 16,
   "metadata": {
    "collapsed": false
   },
   "outputs": [
    {
     "name": "stdout",
     "output_type": "stream",
     "text": [
      "_________________________________________________________________\n",
      "Layer (type)                 Output Shape              Param #   \n",
      "=================================================================\n",
      "dense_7 (Dense)              (None, 128)               100480    \n",
      "_________________________________________________________________\n",
      "dense_8 (Dense)              (None, 2)                 258       \n",
      "=================================================================\n",
      "Total params: 100,738\n",
      "Trainable params: 100,738\n",
      "Non-trainable params: 0\n",
      "_________________________________________________________________\n"
     ]
    }
   ],
   "source": [
    "halfinmodel.summary()"
   ]
  },
  {
   "cell_type": "code",
   "execution_count": 17,
   "metadata": {
    "collapsed": false
   },
   "outputs": [
    {
     "name": "stdout",
     "output_type": "stream",
     "text": [
      "_________________________________________________________________\n",
      "Layer (type)                 Output Shape              Param #   \n",
      "=================================================================\n",
      "dense_9 (Dense)              (None, 128)               384       \n",
      "_________________________________________________________________\n",
      "dense_10 (Dense)             (None, 784)               101136    \n",
      "=================================================================\n",
      "Total params: 101,520\n",
      "Trainable params: 101,520\n",
      "Non-trainable params: 0\n",
      "_________________________________________________________________\n"
     ]
    }
   ],
   "source": [
    "halfoutmodel.summary()"
   ]
  },
  {
   "cell_type": "markdown",
   "metadata": {},
   "source": [
    "### Q6 The middle layer as points on the x-y plane.\n",
    "* Extract the activiations in the middle layer using the prediction function on the half in model with the training data as input.\n",
    "* Plot the data on the x-y plane, colour-coded by number. Note: it is easier to visualise if you plot the data on a log scale and do two graphs, one with 0-4 and another with 5-9."
   ]
  },
  {
   "cell_type": "code",
   "execution_count": 18,
   "metadata": {
    "collapsed": false
   },
   "outputs": [
    {
     "data": {
      "text/plain": [
       "[1.0, 100.0, 1.0, 100]"
      ]
     },
     "execution_count": 18,
     "metadata": {},
     "output_type": "execute_result"
    },
    {
     "data": {
      "image/png": "[encoded data removed]",
      "text/plain": [
       "<matplotlib.figure.Figure at 0x126975908>"
      ]
     },
     "metadata": {},
     "output_type": "display_data"
    }
   ],
   "source": [
    "midactivations = halfinmodel.predict(x_testV)\n",
    "x=midactivations[:,0]\n",
    "y=midactivations[:,1]\n",
    "\n",
    "s0=np.where(y_test==0); x0=x[s0]; y0=y[s0]; plt.subplot(121); plt.loglog(x0,y0,'ok',markersize=1)\n",
    "s1=np.where(y_test==1); x1=x[s1]; y1=y[s1]; plt.subplot(121); plt.plot(x1,y1,'og',markersize=1)\n",
    "s2=np.where(y_test==2); x2=x[s2]; y2=y[s2]; plt.subplot(121); plt.plot(x2,y2,'or',markersize=1)\n",
    "s3=np.where(y_test==3); x3=x[s3]; y3=y[s3]; plt.subplot(121); plt.plot(x3,y3,'ob',markersize=1)\n",
    "s4=np.where(y_test==4); x4=x[s4]; y4=y[s4]; plt.subplot(121); plt.plot(x4,y4,'om',markersize=1)\n",
    "plt.axis([1.0,100.0,1.0,100])\n",
    "\n",
    "s5=np.where(y_test==5); x5=x[s5]; y5=y[s5]; plt.subplot(122); plt.loglog(x5,y5,'ok',markersize=1)\n",
    "s6=np.where(y_test==6); x6=x[s6]; y6=y[s6]; plt.subplot(122); plt.plot(x6,y6,'og',markersize=1)\n",
    "s7=np.where(y_test==7); x7=x[s7]; y7=y[s7]; plt.subplot(122); plt.plot(x7,y7,'or',markersize=1)\n",
    "s8=np.where(y_test==8); x8=x[s8]; y8=y[s8]; plt.subplot(122); plt.plot(x8,y8,'ob',markersize=1)\n",
    "s9=np.where(y_test==9); x9=x[s9]; y9=y[s9]; plt.subplot(122); plt.plot(x9,y9,'om',markersize=1);\n",
    "plt.axis([1.0,100.0,1.0,100])"
   ]
  },
  {
   "cell_type": "markdown",
   "metadata": {},
   "source": [
    "### Q7. Finally, for \"fun\"...\n",
    "* Pick coordinates from the x-y plane, perhaps where there are none of the data, and run them through the half-out model to create \"new\" digits that are neither one number or another."
   ]
  },
  {
   "cell_type": "code",
   "execution_count": 19,
   "metadata": {
    "collapsed": false
   },
   "outputs": [
    {
     "data": {
      "image/png": "[encoded data removed]",
      "text/plain": [
       "<matplotlib.figure.Figure at 0x1145a2860>"
      ]
     },
     "metadata": {},
     "output_type": "display_data"
    }
   ],
   "source": [
    "mymid=np.array([[50,25],[50,50],[1,100]])\n",
    "myP=halfoutmodel.predict(mymid)\n",
    "\n",
    "for k in range(3):\n",
    "    plt.subplot(1,3,k+1)\n",
    "    plt.imshow(myP[k,:].reshape(28,28),cmap='gray')\n",
    "    plt.axis(\"off\")"
   ]
  },
  {
   "cell_type": "code",
   "execution_count": null,
   "metadata": {
    "collapsed": true
   },
   "outputs": [],
   "source": []
  },
  {
   "cell_type": "code",
   "execution_count": null,
   "metadata": {
    "collapsed": true
   },
   "outputs": [],
   "source": []
  },
  {
   "cell_type": "code",
   "execution_count": null,
   "metadata": {
    "collapsed": true
   },
   "outputs": [],
   "source": []
  },
  {
   "cell_type": "code",
   "execution_count": null,
   "metadata": {
    "collapsed": true
   },
   "outputs": [],
   "source": []
  }
 ],
 "metadata": {
  "kernelspec": {
   "display_name": "Python [conda env:tensorflow]",
   "language": "python",
   "name": "conda-env-tensorflow-py"
  },
  "language_info": {
   "codemirror_mode": {
    "name": "ipython",
    "version": 3
   },
   "file_extension": ".py",
   "mimetype": "text/x-python",
   "name": "python",
   "nbconvert_exporter": "python",
   "pygments_lexer": "ipython3",
   "version": "3.5.3"
  }
 },
 "nbformat": 4,
 "nbformat_minor": 2
}

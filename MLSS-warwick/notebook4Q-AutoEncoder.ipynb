{
 "cells": [
  {
   "cell_type": "markdown",
   "metadata": {},
   "source": [
    "### Notebook 4 - Autoencoders\n",
    "\n",
    "An **autoencoder** is a machine-learning algorithm that is trained to copy its input (or some corrupted version thereof) to its output. The hidden layers, which describe the **latent representation** of the input data, typically have a lower dimensionality than the input and output.\n",
    "\n",
    "In this section we look at two applications of autoencoders. \n",
    "* Removing noise from images  \n",
    "* Compression of data"
   ]
  },
  {
   "cell_type": "code",
   "execution_count": 1,
   "metadata": {
    "collapsed": false
   },
   "outputs": [
    {
     "name": "stderr",
     "output_type": "stream",
     "text": [
      "Using TensorFlow backend.\n"
     ]
    }
   ],
   "source": [
    "# We now load the libraries that are required.\n",
    "import matplotlib \n",
    "import matplotlib.pyplot as plt\n",
    "%matplotlib inline\n",
    "\n",
    "import numpy as np\n",
    "import tensorflow\n",
    "import keras\n",
    "\n",
    "from keras.models import Sequential\n",
    "from keras.layers import Dense, Activation\n",
    "from keras.utils import np_utils\n",
    "\n",
    "from keras.datasets import mnist\n"
   ]
  },
  {
   "cell_type": "markdown",
   "metadata": {},
   "source": [
    "* Load the data set, reshape and assign to variables"
   ]
  },
  {
   "cell_type": "code",
   "execution_count": 2,
   "metadata": {
    "collapsed": true
   },
   "outputs": [],
   "source": [
    "# Load the MNIST data \n",
    "(x_train, y_train), (x_test, y_test) = mnist.load_data()"
   ]
  },
  {
   "cell_type": "code",
   "execution_count": 3,
   "metadata": {
    "collapsed": true
   },
   "outputs": [],
   "source": [
    "# Normalize data\n",
    "x_trainR = x_train.astype('float32') / 255.\n",
    "x_testR = x_test.astype('float32') / 255.\n",
    "\n",
    "x_trainV=x_trainR.reshape(60000,784)\n",
    "x_testV=x_testR.reshape(10000,784)"
   ]
  },
  {
   "cell_type": "markdown",
   "metadata": {},
   "source": [
    "### Plot images of the first 5 numbers"
   ]
  },
  {
   "cell_type": "code",
   "execution_count": 4,
   "metadata": {
    "collapsed": false
   },
   "outputs": [
    {
     "data": {
      "image/png": "[encoded data removed]",
      "text/plain": [
       "<matplotlib.figure.Figure at 0x1b16c051cc0>"
      ]
     },
     "metadata": {},
     "output_type": "display_data"
    }
   ],
   "source": [
    "for n in range(5):\n",
    "    plt.subplot(1,5,n+1)\n",
    "    plt.imshow(x_trainR[n,:,:],cmap='gray');\n",
    "    plt.axis(\"off\")\n",
    "    "
   ]
  },
  {
   "cell_type": "markdown",
   "metadata": {},
   "source": [
    "---"
   ]
  },
  {
   "cell_type": "markdown",
   "metadata": {},
   "source": [
    "For Q1-Q3 we will be teaching a network to remove noise from data. The method will be to create a network that takes in noisy images and has the original image as a target output. We can then evaluate how good the network is at removing noise from images it has not seen before (using the test set).\n",
    "\n",
    "### Q1. Create a new data set of noisy images.\n",
    "\n",
    "* Create two new training and test data sets that have gaussian noise of standard deviation $\\sigma$ added to them. These sets should be the same size as the original sets (don't overwrite them).\n",
    "* Make sure that the pixel entries are between 0 and 1 still. The command np.clip(M,0,1) will be of use\n",
    "* Plot the first 5 original and noisy versions as two rows.\n"
   ]
  },
  {
   "cell_type": "code",
   "execution_count": 5,
   "metadata": {
    "collapsed": false
   },
   "outputs": [
    {
     "data": {
      "image/png": "[encoded data removed]",
      "text/plain": [
       "<matplotlib.figure.Figure at 0x1b16b7c1668>"
      ]
     },
     "metadata": {},
     "output_type": "display_data"
    }
   ],
   "source": [
    "sigma = 0.4\n",
    "\n",
    "x_train_noise=x_trainV + sigma*np.random.randn(60000, 784)\n",
    "x_testN = x_testV + sigma * np.random.randn(10000, 784)\n",
    "\n",
    "x_train_noise = np.clip(x_train_noise, 0, 1)\n",
    "x_testN = np.clip(x_testN, 0,1)\n",
    "\n",
    "for k in range(4):\n",
    "    plt.subplot(2, 4, k+1)\n",
    "    plt.imshow(x_train_noise[k, :].reshape(28, 28), cmap = 'gray')\n",
    "    plt.axis(\"off\")\n",
    "    \n",
    "    plt.subplot(2, 4, k+1+4)\n",
    "    plt.imshow(x_trainV[k,:].reshape(28, 28), cmap = 'gray')\n",
    "    plt.axis(\"off\")"
   ]
  },
  {
   "cell_type": "markdown",
   "metadata": {},
   "source": [
    "### Q2. Building the neural network\n",
    "* Construct a neural network model that takes in the images, has one or more hidden layers and outputs a vector the same size as the input with a sigmoid activation.\n",
    "* Use the summary command to check the shape of the model.\n",
    "* Compile the model, but this time use a mean-squared error (i.e. loss='mse') as the cost function.\n",
    "* Fit the model using the noisy training data as an input and the clean training data as an output."
   ]
  },
  {
   "cell_type": "code",
   "execution_count": 6,
   "metadata": {
    "collapsed": false
   },
   "outputs": [
    {
     "name": "stdout",
     "output_type": "stream",
     "text": [
      "_________________________________________________________________\n",
      "Layer (type)                 Output Shape              Param #   \n",
      "=================================================================\n",
      "dense_1 (Dense)              (None, 84)                65940     \n",
      "_________________________________________________________________\n",
      "dense_2 (Dense)              (None, 784)               66640     \n",
      "=================================================================\n",
      "Total params: 132,580\n",
      "Trainable params: 132,580\n",
      "Non-trainable params: 0\n",
      "_________________________________________________________________\n",
      "Epoch 1/5\n",
      "60000/60000 [==============================] - 1s - loss: 0.0372 - acc: 0.0098     \n",
      "Epoch 2/5\n",
      "60000/60000 [==============================] - 1s - loss: 0.0242 - acc: 0.0115     \n",
      "Epoch 3/5\n",
      "60000/60000 [==============================] - 1s - loss: 0.0220 - acc: 0.0116     \n",
      "Epoch 4/5\n",
      "60000/60000 [==============================] - 1s - loss: 0.0208 - acc: 0.0127     \n",
      "Epoch 5/5\n",
      "60000/60000 [==============================] - 1s - loss: 0.0202 - acc: 0.0126     \n"
     ]
    },
    {
     "data": {
      "text/plain": [
       "<keras.callbacks.History at 0x1b10f1f03c8>"
      ]
     },
     "execution_count": 6,
     "metadata": {},
     "output_type": "execute_result"
    }
   ],
   "source": [
    "# Initilise a sequential model\n",
    "mod = Sequential()\n",
    "\n",
    "# The activation is relu which means rectified linear\n",
    "mod.add(Dense(84, input_dim=784,activation='relu'))\n",
    "\n",
    "# The next layer is the output layer\n",
    "mod.add(Dense(784,activation='relu'))\n",
    "\n",
    "mod.summary()\n",
    "\n",
    "p = keras.optimizers.RMSprop(lr=0.001, rho=0.9, epsilon=1e-08, decay=0.0)\n",
    "\n",
    "mod.compile(optimizer= p,loss='mse',metrics=['accuracy'])\n",
    "\n",
    "mod.fit(x_train_noise, x_trainV,batch_size=128,epochs=5)\n"
   ]
  },
  {
   "cell_type": "markdown",
   "metadata": {},
   "source": [
    "### Q3. Evaluating the performance of the model\n",
    "* Generate the output of the model using the noisy **test** data.\n",
    "* For some example data sets plot the noisy input image, the denoised image as well as the original clean image to evaluate the denoiser you have constructed.\n",
    "* If you have time: create another set of data with a different level of noise. How well does your first network denoise the data when the strength of the noise is changed? "
   ]
  },
  {
   "cell_type": "code",
   "execution_count": 7,
   "metadata": {
    "collapsed": false
   },
   "outputs": [
    {
     "data": {
      "image/png": "[encoded data removed]",
      "text/plain": [
       "<matplotlib.figure.Figure at 0x1b170a121d0>"
      ]
     },
     "metadata": {},
     "output_type": "display_data"
    }
   ],
   "source": [
    "P=mod.predict(x_testN)\n",
    "N=np.argmax(P[:,:],1)\n",
    "ne=5\n",
    "for k in range(ne):\n",
    "    plt.subplot(1,2*ne,k + 1)\n",
    "    plt.imshow(x_testN[k, :].reshape(28, 28),cmap=plt.cm.gray_r)\n",
    "    plt.axis(\"off\")\n",
    "    \n",
    "    plt.subplot(1,2*ne,k+6)\n",
    "    plt.imshow(x_trainV[k, :].reshape(28, 28),cmap=plt.cm.gray_r)\n",
    "    plt.axis(\"off\")"
   ]
  },
  {
   "cell_type": "markdown",
   "metadata": {
    "collapsed": true
   },
   "source": [
    "---"
   ]
  },
  {
   "cell_type": "markdown",
   "metadata": {
    "collapsed": true
   },
   "source": [
    "### Q4 Compressing data with autoencoders\n",
    "We now go back to using the original images and seek to build a network that can compress the data. This is achieved by having an input and output layer the same size, but an intermediate layer that is much smaller (in this case two neurons) potentially sandwiched between additional hidden layers.\n",
    "* Define a model that has three hidden layers, with the middle hidden layer having two neurons. You can choose the size of the first and third hidden layers.\n",
    "* Train the network so that the target of the network is the same as the input.\n",
    "* It will make sense to use the loss='mse' cost function again.\n",
    "* Get the predictions from the model using the test data and compare the output to the input for a range of numbers."
   ]
  },
  {
   "cell_type": "code",
   "execution_count": 8,
   "metadata": {
    "collapsed": false
   },
   "outputs": [
    {
     "name": "stdout",
     "output_type": "stream",
     "text": [
      "_________________________________________________________________\n",
      "Layer (type)                 Output Shape              Param #   \n",
      "=================================================================\n",
      "dense_3 (Dense)              (None, 84)                65940     \n",
      "_________________________________________________________________\n",
      "dense_4 (Dense)              (None, 2)                 170       \n",
      "_________________________________________________________________\n",
      "dense_5 (Dense)              (None, 784)               2352      \n",
      "=================================================================\n",
      "Total params: 68,462\n",
      "Trainable params: 68,462\n",
      "Non-trainable params: 0\n",
      "_________________________________________________________________\n"
     ]
    }
   ],
   "source": [
    "# Initilise a sequential model\n",
    "mod = Sequential()\n",
    "# The activation is relu which means rectified linear\n",
    "mod.add(Dense(84, input_dim=784,activation='relu'))\n",
    "# The next layer is the output layer\n",
    "mod.add(Dense(2,activation='relu'))\n",
    "# The next layer is the output layer\n",
    "mod.add(Dense(784,activation='softmax'))\n",
    "mod.summary()"
   ]
  },
  {
   "cell_type": "code",
   "execution_count": 10,
   "metadata": {
    "collapsed": false
   },
   "outputs": [
    {
     "name": "stdout",
     "output_type": "stream",
     "text": [
      "Epoch 1/5\n",
      "60000/60000 [==============================] - 2s - loss: 0.1108 - acc: 0.0087     \n",
      "Epoch 2/5\n",
      "60000/60000 [==============================] - 2s - loss: 0.1105 - acc: 0.0089     \n",
      "Epoch 3/5\n",
      "60000/60000 [==============================] - 2s - loss: 0.1104 - acc: 0.0115     \n",
      "Epoch 4/5\n",
      "60000/60000 [==============================] - 2s - loss: 0.1104 - acc: 0.0136     \n",
      "Epoch 5/5\n",
      "60000/60000 [==============================] - 2s - loss: 0.1103 - acc: 0.0148     \n"
     ]
    },
    {
     "data": {
      "text/plain": [
       "<keras.callbacks.History at 0x1b1123e7240>"
      ]
     },
     "execution_count": 10,
     "metadata": {},
     "output_type": "execute_result"
    }
   ],
   "source": [
    "\n",
    "x_trainV=x_trainR.reshape(60000,784)\n",
    "x_testV=x_testR.reshape(10000,784)\n",
    "\n",
    "rms = keras.optimizers.RMSprop(lr=0.001, rho=0.9, epsilon=1e-08, decay=0.0)\n",
    "\n",
    "mod.compile(optimizer= rms,loss='mse',metrics=['accuracy'])\n",
    "mod.fit(x_trainV, x_trainV, batch_size=128,epochs=5)"
   ]
  },
  {
   "cell_type": "markdown",
   "metadata": {},
   "source": [
    "### Q5 Investigating the hidden layers.\n",
    "We would like to get information on what the states are of the hidden layers. The way we do this in Keras is to build two half networks. One that goes down to the middle layer and one that goes from the middle layer to the outer layer. We can call these two models halfinmodel and halfoutmodel. We can copy the weights from the original network into the half networks using the commands weights=model.layers[0].get_weights(), for example\n",
    "\n",
    "halfinmodel.add(Dense(128, input_dim=784,activation='relu',weights=model.layers[0].get_weights()))\n",
    "\n",
    "* Build the half in and half out models."
   ]
  },
  {
   "cell_type": "code",
   "execution_count": null,
   "metadata": {
    "collapsed": true
   },
   "outputs": [],
   "source": [
    "mod = Sequential()\n",
    "halfinmodel.add(Dense(128, input_dim=784,activation='relu',weights=model.layers[0].get_weights()))"
   ]
  },
  {
   "cell_type": "code",
   "execution_count": null,
   "metadata": {
    "collapsed": true
   },
   "outputs": [],
   "source": []
  },
  {
   "cell_type": "markdown",
   "metadata": {},
   "source": [
    "### Q6 The middle layer as points on the x-y plane.\n",
    "* Extract the activiations in the middle layer using the prediction function on the half in model with the training data as input.\n",
    "* Plot the data on the x-y plane, colour-coded by number. Note: it is easier to visualise if you plot the data on a log scale and do two graphs, one with 0-4 and another with 5-9."
   ]
  },
  {
   "cell_type": "code",
   "execution_count": null,
   "metadata": {
    "collapsed": true
   },
   "outputs": [],
   "source": []
  },
  {
   "cell_type": "markdown",
   "metadata": {},
   "source": [
    "### Q7. Finally, for \"fun\"...\n",
    "* Pick coordinates from the x-y plane, perhaps where there are none of the data, and run them through the half-out model to create \"new\" digits that are neither one number or another."
   ]
  },
  {
   "cell_type": "code",
   "execution_count": null,
   "metadata": {
    "collapsed": true
   },
   "outputs": [],
   "source": []
  }
 ],
 "metadata": {
  "anaconda-cloud": {},
  "kernelspec": {
   "display_name": "Python [conda env:tensorflow]",
   "language": "python",
   "name": "conda-env-tensorflow-py"
  },
  "language_info": {
   "codemirror_mode": {
    "name": "ipython",
    "version": 3
   },
   "file_extension": ".py",
   "mimetype": "text/x-python",
   "name": "python",
   "nbconvert_exporter": "python",
   "pygments_lexer": "ipython3",
   "version": "3.5.3"
  }
 },
 "nbformat": 4,
 "nbformat_minor": 2
}

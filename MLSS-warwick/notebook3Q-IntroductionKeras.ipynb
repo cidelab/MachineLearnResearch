{
 "cells": [
  {
   "cell_type": "markdown",
   "metadata": {},
   "source": [
    "### Notebook 3. Introduction to Keras\n",
    "[Keras](https://keras.io/) is a high-level neural networks API, written in Python. It uses specialised libraries like Tensorflow or Theano to build and train neural network models efficiently. \n",
    "* In this tutorial, we are going to give a very short introduction to Keras, by implementing a simple neural network to classify MNIST digits. We start off by importing useful libraries:"
   ]
  },
  {
   "cell_type": "code",
   "execution_count": 1,
   "metadata": {
    "collapsed": false
   },
   "outputs": [
    {
     "name": "stderr",
     "output_type": "stream",
     "text": [
      "Using TensorFlow backend.\n"
     ]
    }
   ],
   "source": [
    "%matplotlib inline\n",
    "\n",
    "import numpy as np\n",
    "import matplotlib.pyplot as plt\n",
    "\n",
    "import keras\n",
    "from keras.datasets import mnist\n",
    "from keras.models import Sequential\n",
    "from keras.layers import Dense, Dropout, Activation, Flatten"
   ]
  },
  {
   "cell_type": "markdown",
   "metadata": {},
   "source": [
    "### Loading and exploring the dataset:\n",
    "We start off by loading the dataset into memory. Fortunately, Keras has an in-built API to download and load the dataset we are going to use (MNIST)."
   ]
  },
  {
   "cell_type": "code",
   "execution_count": 2,
   "metadata": {
    "collapsed": false,
    "scrolled": true
   },
   "outputs": [
    {
     "name": "stdout",
     "output_type": "stream",
     "text": [
      "trainX shape: (60000, 28, 28)\n",
      "Number of training examples: 60000\n",
      "Number of test examples: 10000\n"
     ]
    }
   ],
   "source": [
    "((trainX, trainY), (testX, testY)) = mnist.load_data()\n",
    "print('trainX shape:', trainX.shape)\n",
    "print('Number of training examples:', trainX.shape[0])\n",
    "print('Number of test examples:', testX.shape[0])"
   ]
  },
  {
   "cell_type": "markdown",
   "metadata": {},
   "source": [
    "The dataset consists of images of handwrittten digits and their labels (i.e. the digit that appears in the image). The digits go from 0-9."
   ]
  },
  {
   "cell_type": "code",
   "execution_count": 3,
   "metadata": {
    "collapsed": false
   },
   "outputs": [
    {
     "name": "stdout",
     "output_type": "stream",
     "text": [
      "There are 10 classes:\n",
      "[0 1 2 3 4 5 6 7 8 9]\n"
     ]
    }
   ],
   "source": [
    "classes = np.unique(trainY)\n",
    "num_classes = classes.shape[0]\n",
    "print('There are', num_classes, 'classes:')\n",
    "print(classes)"
   ]
  },
  {
   "cell_type": "markdown",
   "metadata": {},
   "source": [
    "We can view random samples from the dataset using the code below. Feel free to change the value of `index` to view different samples from the dataset."
   ]
  },
  {
   "cell_type": "code",
   "execution_count": 4,
   "metadata": {
    "collapsed": false
   },
   "outputs": [
    {
     "name": "stdout",
     "output_type": "stream",
     "text": [
      "This is a number: 2\n"
     ]
    },
    {
     "data": {
      "image/png": "[encoded data removed]",
      "text/plain": [
       "<matplotlib.figure.Figure at 0x208392b4cc0>"
      ]
     },
     "metadata": {},
     "output_type": "display_data"
    }
   ],
   "source": [
    "index = 5\n",
    "print('This is a number:', trainY[index])\n",
    "plt.subplot(221)\n",
    "plt.imshow(trainX[index],cmap=plt.cm.gray_r)\n",
    "plt.axis(\"off\");"
   ]
  },
  {
   "cell_type": "markdown",
   "metadata": {},
   "source": [
    "In order for our dataset to be compatible with the Keras API, we need our labels to be represented using [one-hot encoding](https://www.quora.com/What-is-one-hot-encoding-and-when-is-it-used-in-data-science). We also want to convert the image representation from 8-bit (integer) grayscale pixels to 32-bit floating points between 0 and 1."
   ]
  },
  {
   "cell_type": "code",
   "execution_count": 5,
   "metadata": {
    "collapsed": true
   },
   "outputs": [],
   "source": [
    "# Convert class label to one-hot encoded vector\n",
    "trainV = keras.utils.to_categorical(trainY, num_classes)\n",
    "testV = keras.utils.to_categorical(testY, num_classes)"
   ]
  },
  {
   "cell_type": "code",
   "execution_count": 6,
   "metadata": {
    "collapsed": true
   },
   "outputs": [],
   "source": [
    "# Normalise the images so pixels are between 0 and 1 \n",
    "trainR = trainX/255.0\n",
    "testR = testX/255.0\n",
    "\n",
    "# reshape 28*28 image into row vectors\n",
    "trainR=trainR.reshape(60000,784)\n",
    "testR=testR.reshape(10000,784)"
   ]
  },
  {
   "cell_type": "markdown",
   "metadata": {},
   "source": [
    "### Building the neural network classifier:\n",
    "Now we build our neural network model. The Keras API makes this as easy as using Lego! All we need to do is stack the layers sequentially on top of each other as follows. For example. We can build a network with inputs, a 20 neuron hidden layer, a 15 neuron hidden layer and an output layer with 10 outputs."
   ]
  },
  {
   "cell_type": "code",
   "execution_count": 7,
   "metadata": {
    "collapsed": false
   },
   "outputs": [
    {
     "name": "stdout",
     "output_type": "stream",
     "text": [
      "_________________________________________________________________\n",
      "Layer (type)                 Output Shape              Param #   \n",
      "=================================================================\n",
      "dense_1 (Dense)              (None, 20)                15700     \n",
      "_________________________________________________________________\n",
      "dense_2 (Dense)              (None, 15)                315       \n",
      "_________________________________________________________________\n",
      "dense_3 (Dense)              (None, 10)                160       \n",
      "=================================================================\n",
      "Total params: 16,175\n",
      "Trainable params: 16,175\n",
      "Non-trainable params: 0\n",
      "_________________________________________________________________\n"
     ]
    }
   ],
   "source": [
    "# Initilise a sequential model\n",
    "model = Sequential()\n",
    "\n",
    "# The input layer is 784 nodes into a hidden layer of 20.\n",
    "# The activation is relu which means rectified linear\n",
    "model.add(Dense(20, input_dim=784,activation='relu'))\n",
    "# Now add another hidden layer with 15 neurons\n",
    "model.add(Dense(15,activation='relu'))\n",
    "# The next layer is the output layer\n",
    "model.add(Dense(10,activation='softmax'))\n",
    "\n",
    "model.summary()"
   ]
  },
  {
   "cell_type": "markdown",
   "metadata": {},
   "source": [
    "Finally, we need to compile the model. When compiling, we specify the optimizer (which improves the weights), and a cost function, [categorical cross-entropy](https://stats.stackexchange.com/questions/260505/machine-learning-should-i-use-a-categorical-cross-entropy-or-binary-cross-entro) in this case. We also pass in a reference to the optimisation algorithm and specify the mertics we want to use to monitor convergence (if we want any)."
   ]
  },
  {
   "cell_type": "code",
   "execution_count": 8,
   "metadata": {
    "collapsed": true
   },
   "outputs": [],
   "source": [
    "model.compile(optimizer='sgd',loss='categorical_crossentropy',metrics=['accuracy'])"
   ]
  },
  {
   "cell_type": "markdown",
   "metadata": {},
   "source": [
    "### Training the model:\n",
    "To train the model, we just call the `fit` function on the model object we created earlier. You can monitor the performance of the model while training on a separate test dataset. This is useful to know when to stop training to avoid overfitting."
   ]
  },
  {
   "cell_type": "code",
   "execution_count": 9,
   "metadata": {
    "collapsed": false
   },
   "outputs": [
    {
     "name": "stdout",
     "output_type": "stream",
     "text": [
      "Epoch 1/5\n",
      "60000/60000 [==============================] - 0s - loss: 1.6637 - acc: 0.5070     \n",
      "Epoch 2/5\n",
      "60000/60000 [==============================] - 0s - loss: 0.7141 - acc: 0.8133     \n",
      "Epoch 3/5\n",
      "60000/60000 [==============================] - 0s - loss: 0.4934 - acc: 0.8628     \n",
      "Epoch 4/5\n",
      "60000/60000 [==============================] - 0s - loss: 0.4216 - acc: 0.8805     \n",
      "Epoch 5/5\n",
      "60000/60000 [==============================] - 0s - loss: 0.3846 - acc: 0.8897     \n"
     ]
    },
    {
     "data": {
      "text/plain": [
       "<keras.callbacks.History at 0x208585117f0>"
      ]
     },
     "execution_count": 9,
     "metadata": {},
     "output_type": "execute_result"
    }
   ],
   "source": [
    "batch_size=128 # Number of samples per minibatch for SGD\n",
    "epochs=20 # Number of epochs to train the model\n",
    "\n",
    "model.fit(trainR,trainV,batch_size=128,epochs=5)"
   ]
  },
  {
   "cell_type": "code",
   "execution_count": 10,
   "metadata": {
    "collapsed": false
   },
   "outputs": [
    {
     "name": "stdout",
     "output_type": "stream",
     "text": [
      " 8416/10000 [========================>.....] - ETA: 0s\n",
      "\n",
      "Number correctly estimated  89.63 % on the test set\n"
     ]
    }
   ],
   "source": [
    "score=model.evaluate(testR,testV,batch_size=32);\n",
    "print(\"\\n\\nNumber correctly estimated \",100*score[1],\"% on the test set\")"
   ]
  },
  {
   "cell_type": "markdown",
   "metadata": {},
   "source": [
    "### Evaluating the model\n",
    "We can get the predictions from the model and plot the first 10 examples"
   ]
  },
  {
   "cell_type": "code",
   "execution_count": 13,
   "metadata": {
    "collapsed": false
   },
   "outputs": [
    {
     "data": {
      "image/png": "[encoded data removed]",
      "text/plain": [
       "<matplotlib.figure.Figure at 0x208587b6828>"
      ]
     },
     "metadata": {},
     "output_type": "display_data"
    }
   ],
   "source": [
    "P=model.predict(testR)\n",
    "N=np.argmax(P[:,:],1)\n",
    "ne=10\n",
    "for k in range(ne):\n",
    "    plt.subplot(1,ne,k+1)\n",
    "    plt.imshow(testX[k],cmap=plt.cm.gray_r)\n",
    "    plt.axis(\"off\")\n",
    "    plt.title(N[k]);"
   ]
  },
  {
   "cell_type": "markdown",
   "metadata": {},
   "source": [
    "### Extracting the learned weights from the model\n",
    "We can extract the learned weights from the model for later analysis."
   ]
  },
  {
   "cell_type": "code",
   "execution_count": 16,
   "metadata": {
    "collapsed": false
   },
   "outputs": [
    {
     "name": "stdout",
     "output_type": "stream",
     "text": [
      "(784, 20)\n",
      "(20,)\n"
     ]
    }
   ],
   "source": [
    "W=model.get_weights();\n",
    "print(W[0].shape) # dimensions of the weights between input and first hidden layer\n",
    "print(W[1].shape) # dimension of the weights for the bias into the first hidden layer"
   ]
  },
  {
   "cell_type": "markdown",
   "metadata": {},
   "source": [
    "---"
   ]
  },
  {
   "cell_type": "markdown",
   "metadata": {},
   "source": [
    "### Q1 An input-output network\n",
    "* Create a simple input-output network (i.e. with no hidden layer).\n",
    "* Train the network and examine its predictions\n",
    "* By interpreting the weight matrix between the input and the output nodes (28*28,10) as 10 images, plot the feature template represented by the weights.\n",
    "* Plot a few examples of cases where the test data is poorly classified"
   ]
  },
  {
   "cell_type": "markdown",
   "metadata": {},
   "source": [
    "### Q2 Multiple hidden layers\n",
    "* By varying the number of hidden layers, see if you can improve the score on the test data."
   ]
  },
  {
   "cell_type": "code",
   "execution_count": 44,
   "metadata": {
    "collapsed": false
   },
   "outputs": [],
   "source": [
    "# Initilise a sequential model\n",
    "mod = Sequential()\n",
    "\n",
    "# The input layer is 784 nodes into a hidden layer of 20.\n",
    "# The activation is relu which means rectified lineard\n",
    "mod.add(Dense(10, input_dim=784,activation='softmax'))\n",
    "\n",
    "#sgd = keras.optimizers.SGD(lr=0.01, decay=1e-6, momentum=0.9, nesterov=True)\n",
    "opti = keras.optimizers.RMSprop(lr=0.001, rho=0.95, epsilon=1e-08, decay=0.0)\n",
    "\n",
    "mod.compile(optimizer = opti , loss='categorical_crossentropy', metrics=['accuracy'])\n",
    "\n"
   ]
  },
  {
   "cell_type": "code",
   "execution_count": 43,
   "metadata": {
    "collapsed": false
   },
   "outputs": [
    {
     "name": "stdout",
     "output_type": "stream",
     "text": [
      "Epoch 1/5\n",
      "60000/60000 [==============================] - 0s - loss: 0.5656 - acc: 0.8623     \n",
      "Epoch 2/5\n",
      "60000/60000 [==============================] - 0s - loss: 0.3309 - acc: 0.9083     \n",
      "Epoch 3/5\n",
      "60000/60000 [==============================] - 0s - loss: 0.3013 - acc: 0.9160     \n",
      "Epoch 4/5\n",
      "60000/60000 [==============================] - 0s - loss: 0.2877 - acc: 0.9193     \n",
      "Epoch 5/5\n",
      "60000/60000 [==============================] - 0s - loss: 0.2795 - acc: 0.9217     \n"
     ]
    },
    {
     "data": {
      "text/plain": [
       "<keras.callbacks.History at 0x20859e405c0>"
      ]
     },
     "execution_count": 43,
     "metadata": {},
     "output_type": "execute_result"
    }
   ],
   "source": [
    "mod.fit(trainR,trainV,batch_size=128,epochs=5)"
   ]
  },
  {
   "cell_type": "code",
   "execution_count": 22,
   "metadata": {
    "collapsed": false
   },
   "outputs": [
    {
     "name": "stdout",
     "output_type": "stream",
     "text": [
      " 8896/10000 [=========================>....] - ETA: 0s\n",
      "\n",
      "Number correctly estimated  92.3 % on the test set\n"
     ]
    }
   ],
   "source": [
    "score=mod.evaluate(testR,testV,batch_size=32);\n",
    "print(\"\\n\\nNumber correctly estimated \",100*score[1],\"% on the test set\")"
   ]
  },
  {
   "cell_type": "code",
   "execution_count": 27,
   "metadata": {
    "collapsed": false
   },
   "outputs": [
    {
     "data": {
      "image/png": "[encoded data removed]",
      "text/plain": [
       "<matplotlib.figure.Figure at 0x208586c4c18>"
      ]
     },
     "metadata": {},
     "output_type": "display_data"
    },
    {
     "data": {
      "image/png": "[encoded data removed]",
      "text/plain": [
       "<matplotlib.figure.Figure at 0x208587854e0>"
      ]
     },
     "metadata": {},
     "output_type": "display_data"
    },
    {
     "data": {
      "image/png": "[encoded data removed]",
      "text/plain": [
       "<matplotlib.figure.Figure at 0x20858bafe48>"
      ]
     },
     "metadata": {},
     "output_type": "display_data"
    },
    {
     "data": {
      "image/png": "[encoded data removed]",
      "text/plain": [
       "<matplotlib.figure.Figure at 0x20858ad46a0>"
      ]
     },
     "metadata": {},
     "output_type": "display_data"
    },
    {
     "data": {
      "image/png": "[encoded data removed]",
      "text/plain": [
       "<matplotlib.figure.Figure at 0x20858a485f8>"
      ]
     },
     "metadata": {},
     "output_type": "display_data"
    },
    {
     "data": {
      "image/png": "[encoded data removed]",
      "text/plain": [
       "<matplotlib.figure.Figure at 0x20859e446d8>"
      ]
     },
     "metadata": {},
     "output_type": "display_data"
    },
    {
     "data": {
      "image/png": "[encoded data removed]",
      "text/plain": [
       "<matplotlib.figure.Figure at 0x2085b0575f8>"
      ]
     },
     "metadata": {},
     "output_type": "display_data"
    },
    {
     "data": {
      "image/png": "[encoded data removed]",
      "text/plain": [
       "<matplotlib.figure.Figure at 0x20859e6dcf8>"
      ]
     },
     "metadata": {},
     "output_type": "display_data"
    },
    {
     "data": {
      "image/png": "[encoded data removed]",
      "text/plain": [
       "<matplotlib.figure.Figure at 0x2085b101550>"
      ]
     },
     "metadata": {},
     "output_type": "display_data"
    },
    {
     "data": {
      "image/png": "[encoded data removed]",
      "text/plain": [
       "<matplotlib.figure.Figure at 0x2085b14ae80>"
      ]
     },
     "metadata": {},
     "output_type": "display_data"
    },
    {
     "data": {
      "text/plain": [
       "<matplotlib.figure.Figure at 0x2085b1a9e80>"
      ]
     },
     "metadata": {},
     "output_type": "display_data"
    }
   ],
   "source": [
    "w=mod.get_weights()\n",
    "#w[0].shape\n",
    "#one=w[0][:,1]\n",
    "#one.reshape((28,28))\n",
    "for i in range(10):\n",
    "    plt.imshow(w[0][:,i].reshape((28,28)))\n",
    "    plt.figure()\n",
    "\n",
    "plt.show()"
   ]
  },
  {
   "cell_type": "code",
   "execution_count": 34,
   "metadata": {
    "collapsed": false
   },
   "outputs": [
    {
     "data": {
      "text/plain": [
       "<function keras.utils.vis_utils.plot_model>"
      ]
     },
     "execution_count": 34,
     "metadata": {},
     "output_type": "execute_result"
    }
   ],
   "source": [
    "from keras.utils import plot_model\n",
    "plot_model"
   ]
  }
 ],
 "metadata": {
  "anaconda-cloud": {},
  "kernelspec": {
   "display_name": "Python [conda env:tensorflow]",
   "language": "python",
   "name": "conda-env-tensorflow-py"
  },
  "language_info": {
   "codemirror_mode": {
    "name": "ipython",
    "version": 3
   },
   "file_extension": ".py",
   "mimetype": "text/x-python",
   "name": "python",
   "nbconvert_exporter": "python",
   "pygments_lexer": "ipython3",
   "version": "3.5.3"
  }
 },
 "nbformat": 4,
 "nbformat_minor": 2
}

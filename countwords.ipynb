{
 "cells": [
  {
   "cell_type": "code",
   "execution_count": 1,
   "metadata": {
    "collapsed": false
   },
   "outputs": [
    {
     "name": "stdout",
     "output_type": "stream",
     "text": [
      "[('cat', 3), ('bat', 2), ('mat', 1)]\n",
      "[('butter', 2), ('a', 1), ('betty', 1)]\n",
      "[('down', 4), ('falling', 4), ('bridge', 2), ('is', 2), ('london', 2)]\n"
     ]
    }
   ],
   "source": [
    "\"\"\"Count words.\"\"\"\n",
    "import operator\n",
    "\n",
    "def count_words(s, n):\n",
    "    \"\"\"Return the n most frequently occuring words in s.\"\"\"\n",
    "    \n",
    "    # TODO: Count the number of occurences of each word in s\n",
    "    arrs = s.split()\n",
    "    \n",
    "    counts = dict()\n",
    "    \n",
    "    for w in arrs:\n",
    "        if w not in counts:\n",
    "            counts[w] = 1\n",
    "        else:\n",
    "            counts[w] += 1\n",
    "\n",
    "    # TODO: Sort the occurences in descending order (alphabetically in case of ties)\n",
    "    top_n = counts.items()\n",
    "  \n",
    "    top_n.sort(key=lambda row: row[0])\n",
    "    \n",
    "    top_n.sort(key=lambda row: row[1], reverse = True)\n",
    "    \n",
    "    t = list()\n",
    "    for key, val in top_n[:n]:\n",
    "        t.append((key, val))\n",
    "        \n",
    "    #t.reverse()\n",
    "    # TODO: Return the top n words as a list of tuples (<word>, <count>)\n",
    "    return t\n",
    "\n",
    "def test_run():\n",
    "    \"\"\"Test count_words() with some inputs.\"\"\"\n",
    "    print count_words(\"cat bat mat cat bat cat\", 3)\n",
    "    print count_words(\"betty bought a bit of butter but the butter was bitter\", 3)\n",
    "    print count_words(\"london bridge is falling down falling down falling down london bridge is falling down my fair lady\", 5)\n",
    "\n",
    "\n",
    "if __name__ == '__main__':\n",
    "    test_run()"
   ]
  },
  {
   "cell_type": "code",
   "execution_count": 2,
   "metadata": {
    "collapsed": false
   },
   "outputs": [
    {
     "name": "stdout",
     "output_type": "stream",
     "text": [
      "[('cat', 3), ('bat', 2), ('mat', 1)]\n",
      "[('butter', 2), ('a', 1), ('betty', 1)]\n",
      "[('down', 4), ('falling', 4), ('bridge', 2), ('is', 2), ('london', 2)]\n"
     ]
    }
   ],
   "source": [
    "test_run()"
   ]
  },
  {
   "cell_type": "code",
   "execution_count": null,
   "metadata": {
    "collapsed": true
   },
   "outputs": [],
   "source": []
  }
 ],
 "metadata": {
  "anaconda-cloud": {},
  "kernelspec": {
   "display_name": "Python [conda root]",
   "language": "python",
   "name": "conda-root-py"
  },
  "language_info": {
   "codemirror_mode": {
    "name": "ipython",
    "version": 2
   },
   "file_extension": ".py",
   "mimetype": "text/x-python",
   "name": "python",
   "nbconvert_exporter": "python",
   "pygments_lexer": "ipython2",
   "version": "2.7.12"
  }
 },
 "nbformat": 4,
 "nbformat_minor": 1
}

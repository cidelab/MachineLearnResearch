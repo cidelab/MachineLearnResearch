{
 "cells": [
  {
   "cell_type": "code",
   "execution_count": null,
   "metadata": {},
   "outputs": [],
   "source": [
    "import turtle\n",
    "import math\n",
    "\n",
    "def draw_Square(someTurtle, s):\n",
    "    #change to loop.\n",
    "    for i in range(0, 4):\n",
    "            someTurtle.forward(200)\n",
    "            someTurtle.right(90)\n",
    "            someTurtle.circle(math.sin(i + 5)*s)\n",
    "\n",
    "def Draw_Art():\n",
    "    window = turtle.Screen()\n",
    "    window.bgcolor(\"red\")\n",
    "\n",
    "    brad = turtle.Turtle()\n",
    "    brad.shape(\"turtle\")\n",
    "    brad.color(\"black\", \"blue\")\n",
    "    brad.pensize(2)\n",
    "    #brad.speed(2)\n",
    "\n",
    "    for i in range(1, 37):\n",
    "        draw_Square(brad, math.cos(i)+10)\n",
    "        brad.right(10)\n",
    "        \n",
    "    #angie = turtle.Turtle()\n",
    "    #angie.color(\"white\", \"white\")\n",
    "    #angie.shape(\"arrow\")\n",
    "    #angie.pensize(2)\n",
    "    #angie.circle(100)\n",
    "\n",
    "    window.exitonclick()\n",
    "    \n",
    "Draw_Art()"
   ]
  },
  {
   "cell_type": "code",
   "execution_count": null,
   "metadata": {
    "collapsed": true
   },
   "outputs": [],
   "source": []
  }
 ],
 "metadata": {
  "anaconda-cloud": {},
  "kernelspec": {
   "display_name": "Python [conda root]",
   "language": "python",
   "name": "conda-root-py"
  },
  "language_info": {
   "codemirror_mode": {
    "name": "ipython",
    "version": 3
   },
   "file_extension": ".py",
   "mimetype": "text/x-python",
   "name": "python",
   "nbconvert_exporter": "python",
   "pygments_lexer": "ipython3",
   "version": "3.6.4"
  }
 },
 "nbformat": 4,
 "nbformat_minor": 1
}

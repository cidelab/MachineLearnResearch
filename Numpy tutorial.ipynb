{
 "cells": [
  {
   "cell_type": "code",
   "execution_count": 1,
   "metadata": {
    "collapsed": false
   },
   "outputs": [],
   "source": [
    "import numpy as np"
   ]
  },
  {
   "cell_type": "code",
   "execution_count": 19,
   "metadata": {
    "collapsed": false
   },
   "outputs": [
    {
     "name": "stdout",
     "output_type": "stream",
     "text": [
      "the array is [ 1.  4.  5.  8.]\n",
      "in index 0 we have:  1.0\n",
      "the array length is 4\n",
      "the type of data is:  float64\n",
      "\n",
      "the array is [[ 1.  2.  3.]\n",
      " [ 4.  5.  6.]]\n",
      "in index 0 we have:  [ 1.  2.  3.]\n",
      "in index 1 we have:  [ 4.  5.  6.]\n",
      "in index 0,2 we have:  3.0\n",
      "the type of data is:  float64\n"
     ]
    }
   ],
   "source": [
    "if True:\n",
    "    array = np.array([1, 4, 5, 8], float)\n",
    "    print \"the array is\" , array\n",
    "    print \"in index 0 we have: \",array[0]\n",
    "    print \"the array length is\", len(array)\n",
    "    print \"the type of data is: \", array.dtype\n",
    "    print \"\"\n",
    "    array = np.array([[1, 2, 3], [4, 5, 6]], float)  # a 2D array/Matrix\n",
    "    print \"the array is\", array\n",
    "    print \"in index 0 we have: \", array[0]\n",
    "    print \"in index 1 we have: \", array[1]\n",
    "    print \"in index 0,2 we have: \", array[0][2]\n",
    "    print \"the type of data is: \", array.dtype"
   ]
  },
  {
   "cell_type": "code",
   "execution_count": 29,
   "metadata": {
    "collapsed": false
   },
   "outputs": [
    {
     "name": "stdout",
     "output_type": "stream",
     "text": [
      "the array is:  [ 1.  4.  5.  8.]\n",
      "\n",
      "the second element is: \n",
      "4.0\n",
      "\n",
      "this is a slice of first 2 elements:\n",
      "[ 1.  4.]\n",
      "this is a slice of from the second element: \n",
      "[ 4.  5.  8.]\n",
      "check the upper index is excluse\n",
      "\n",
      "we insert an element like this: array[1] = 5.0: \n",
      "5.0\n"
     ]
    }
   ],
   "source": [
    "#You can index, slice, and manipulate a Numpy array much like you would with a Python list.\n",
    "if True:\n",
    "    array = np.array([1, 4, 5, 8], float)\n",
    "    print \"the array is: \", array\n",
    "    print \"\"\n",
    "    print \"the second element is: \"\n",
    "    print array[1]\n",
    "    print \"\"\n",
    "    print \"this is a slice of first 2 elements:\"\n",
    "    print array[:2]\n",
    "    print \"this is a slice of from the second element: \"\n",
    "    print array[1: 4]\n",
    "    print \"check the upper index is excluse\"\n",
    "    print \"\"\n",
    "    print \"we insert an element like this: array[1] = 5.0: \"\n",
    "    array[1] = 5.0\n",
    "    print array[1]"
   ]
  },
  {
   "cell_type": "code",
   "execution_count": 36,
   "metadata": {
    "collapsed": false
   },
   "outputs": [
    {
     "name": "stdout",
     "output_type": "stream",
     "text": [
      "first array:  [ 1.  2.  3.]\n",
      "second array:  [ 5.  2.  6.]\n",
      "we sum both arrays:  [ 6.  4.  9.]\n",
      "we substract the first array to second arrays:  [-4.  0. -3.]\n",
      "we multiply both arrays:  [  5.   4.  18.]\n"
     ]
    }
   ],
   "source": [
    "#Here are some arithmetic operations that you can do with Numpy arrays\n",
    "if True:\n",
    "    array_1 = np.array([1, 2, 3], float)\n",
    "    array_2 = np.array([5, 2, 6], float)\n",
    "    print \"first array: \", array_1\n",
    "    print \"second array: \", array_2\n",
    "    print \"we sum both arrays: \", array_1 + array_2\n",
    "    print \"we substract the first array to second arrays: \", array_1 - array_2\n",
    "    print \"we multiply both arrays: \", array_1 * array_2"
   ]
  },
  {
   "cell_type": "code",
   "execution_count": 37,
   "metadata": {
    "collapsed": false
   },
   "outputs": [
    {
     "name": "stdout",
     "output_type": "stream",
     "text": [
      "[[  6.   8.]\n",
      " [ 10.  12.]]\n",
      "\n",
      "[[-4. -4.]\n",
      " [-4. -4.]]\n",
      "\n",
      "[[  5.  12.]\n",
      " [ 21.  32.]]\n"
     ]
    }
   ],
   "source": [
    "#Matrix arithmetics in action\n",
    "if True:\n",
    "    array_1 = np.array([[1, 2], [3, 4]], float)\n",
    "    array_2 = np.array([[5, 6], [7, 8]], float)\n",
    "    print array_1 + array_2\n",
    "    print \"\"\n",
    "    print array_1 - array_2\n",
    "    print \"\"\n",
    "    print array_1 * array_2"
   ]
  },
  {
   "cell_type": "code",
   "execution_count": 38,
   "metadata": {
    "collapsed": false
   },
   "outputs": [
    {
     "name": "stdout",
     "output_type": "stream",
     "text": [
      "2.0\n",
      "7.0\n",
      "\n",
      "[ 44.]\n"
     ]
    }
   ],
   "source": [
    "if True:\n",
    "    array_1 = np.array([1, 2, 3], float)\n",
    "    array_2 = np.array([[6], [7], [8]], float)\n",
    "    print np.mean(array_1)\n",
    "    print np.mean(array_2)\n",
    "    print \"\"\n",
    "    print np.dot(array_1, array_2)"
   ]
  }
 ],
 "metadata": {
  "anaconda-cloud": {},
  "kernelspec": {
   "display_name": "Python [conda root]",
   "language": "python",
   "name": "conda-root-py"
  },
  "language_info": {
   "codemirror_mode": {
    "name": "ipython",
    "version": 2
   },
   "file_extension": ".py",
   "mimetype": "text/x-python",
   "name": "python",
   "nbconvert_exporter": "python",
   "pygments_lexer": "ipython2",
   "version": "2.7.12"
  }
 },
 "nbformat": 4,
 "nbformat_minor": 1
}

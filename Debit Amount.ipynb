{
 "cells": [
  {
   "cell_type": "code",
   "execution_count": 51,
   "metadata": {
    "collapsed": false
   },
   "outputs": [
    {
     "name": "stderr",
     "output_type": "stream",
     "text": [
      "C:\\Users\\Carlos\\Anaconda3\\lib\\site-packages\\ipykernel\\__main__.py:7: FutureWarning: convert_objects is deprecated.  Use the data-type specific converters pd.to_datetime, pd.to_timedelta and pd.to_numeric.\n"
     ]
    }
   ],
   "source": [
    "import pandas as pd\n",
    "import matplotlib.pyplot as plt\n",
    "import numpy as np\n",
    "\n",
    "dta = pd.read_csv(\"julyToSeptember.csv\")\n",
    "\n",
    "d = dta[\"Debit Amount\"].convert_objects(convert_numeric=True)"
   ]
  },
  {
   "cell_type": "code",
   "execution_count": 52,
   "metadata": {
    "collapsed": false
   },
   "outputs": [
    {
     "data": {
      "text/plain": [
       "0        6.79\n",
       "1        2.20\n",
       "2       39.50\n",
       "3       10.00\n",
       "4       11.90\n",
       "5       26.63\n",
       "6        0.15\n",
       "7        5.32\n",
       "8        1.00\n",
       "9        0.95\n",
       "10       7.65\n",
       "11       1.05\n",
       "12       4.40\n",
       "13      30.00\n",
       "14       1.08\n",
       "15       4.35\n",
       "16      13.60\n",
       "17      19.60\n",
       "18      10.00\n",
       "19       9.80\n",
       "20       5.84\n",
       "21       5.00\n",
       "22       5.00\n",
       "23       0.30\n",
       "24       4.75\n",
       "25       7.93\n",
       "26     236.20\n",
       "27       9.70\n",
       "28        NaN\n",
       "29        NaN\n",
       "        ...  \n",
       "211      1.00\n",
       "212      0.15\n",
       "213      5.31\n",
       "214      5.40\n",
       "215      0.65\n",
       "216     38.95\n",
       "217      5.40\n",
       "218      0.75\n",
       "219     35.00\n",
       "220      7.25\n",
       "221    150.00\n",
       "222      0.60\n",
       "223     32.40\n",
       "224     20.00\n",
       "225      5.00\n",
       "226      2.16\n",
       "227       NaN\n",
       "228      5.00\n",
       "229     17.10\n",
       "230     18.30\n",
       "231     10.00\n",
       "232      8.80\n",
       "233      5.64\n",
       "234      1.45\n",
       "235     40.00\n",
       "236       NaN\n",
       "237     32.40\n",
       "238     14.90\n",
       "239      9.25\n",
       "240     16.99\n",
       "Name: Debit Amount, dtype: float64"
      ]
     },
     "execution_count": 52,
     "metadata": {},
     "output_type": "execute_result"
    }
   ],
   "source": [
    "d.fillna(1000)\n",
    "db = d.abs()\n",
    "db"
   ]
  },
  {
   "cell_type": "code",
   "execution_count": 47,
   "metadata": {
    "collapsed": false
   },
   "outputs": [],
   "source": [
    "df = dta[[\"Transaction Description\", \"Debit Amount\"]]\n",
    "df;"
   ]
  },
  {
   "cell_type": "code",
   "execution_count": 48,
   "metadata": {
    "collapsed": false
   },
   "outputs": [],
   "source": [
    "#s = dta['Transaction Description'].size\n",
    "s= len(dta['Transaction Description'])\n",
    "x = np.arange(s) #(0, dSize, dSize, endpoint=True)#np.linspace(-np.pi, np.pi, 256, endpoint=True)\n",
    "\n",
    "#plt.title('Money Average')\n",
    "#plt.xlabel('Gastos')\n",
    "#plt.ylabel('pasta')\n",
    "\n",
    "plt.plot(x, db, 'yo-')\n",
    "plt.show()"
   ]
  },
  {
   "cell_type": "code",
   "execution_count": null,
   "metadata": {
    "collapsed": true
   },
   "outputs": [],
   "source": []
  }
 ],
 "metadata": {
  "anaconda-cloud": {},
  "kernelspec": {
   "display_name": "Python [conda root]",
   "language": "python",
   "name": "conda-root-py"
  },
  "language_info": {
   "codemirror_mode": {
    "name": "ipython",
    "version": 2
   },
   "file_extension": ".py",
   "mimetype": "text/x-python",
   "name": "python",
   "nbconvert_exporter": "python",
   "pygments_lexer": "ipython2",
   "version": "2.7.12"
  }
 },
 "nbformat": 4,
 "nbformat_minor": 0
}

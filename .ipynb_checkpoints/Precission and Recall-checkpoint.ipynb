{
 "cells": [
  {
   "cell_type": "code",
   "execution_count": 1,
   "metadata": {
    "collapsed": false
   },
   "outputs": [],
   "source": [
    "# As with the previous exercises, let's look at the performance of a couple of classifiers\n",
    "# on the familiar Titanic dataset. Add a train/test split, then store the results in the\n",
    "# dictionary provided.\n",
    "\n",
    "import numpy as np\n",
    "import pandas as pd\n",
    "\n",
    "from sklearn.tree import DecisionTreeClassifier\n",
    "from sklearn.metrics import recall_score as recall\n",
    "from sklearn.metrics import precision_score as precision\n",
    "from sklearn.naive_bayes import GaussianNB\n",
    "from sklearn.model_selection import train_test_split"
   ]
  },
  {
   "cell_type": "code",
   "execution_count": 2,
   "metadata": {
    "collapsed": true
   },
   "outputs": [],
   "source": [
    "# Load the dataset\n",
    "X = pd.read_csv('titanic_data.csv')\n",
    "\n",
    "X = X._get_numeric_data()\n",
    "y = X['Survived']\n",
    "del X['Age'], X['Survived']"
   ]
  },
  {
   "cell_type": "code",
   "execution_count": 3,
   "metadata": {
    "collapsed": true
   },
   "outputs": [],
   "source": [
    "xTrain, xTest, yTrain, yTest = train_test_split(X, y, test_size=0.4, random_state=0)"
   ]
  },
  {
   "cell_type": "code",
   "execution_count": 5,
   "metadata": {
    "collapsed": false
   },
   "outputs": [
    {
     "name": "stdout",
     "output_type": "stream",
     "text": [
      "Decision Tree recall: 0.52 and precision: 0.56\n",
      "GaussianNB recall: 0.38 and precision: 0.61\n"
     ]
    }
   ],
   "source": [
    "# TODO: split the data into training and testing sets,\n",
    "# using the standard settings for train_test_split.\n",
    "# Then, train and test the classifiers with your newly split data instead of X and y.\n",
    "\n",
    "clf1 = DecisionTreeClassifier()\n",
    "clf1.fit(xTrain, yTrain)\n",
    "dtaTreeRec = recall(yTest,clf1.predict(xTest))\n",
    "dtaTreePrec = precision(yTest,clf1.predict(xTest))\n",
    "#print \"Decision Tree recall: {:.2f} and precision: {:.2f}\".format(recall(yTest,clf1.predict(xTest)),precision(yTest,clf1.predict(xTest)))\n",
    "print \"Decision Tree recall: {:.2f} and precision: {:.2f}\".format(dtaTreeRec, dtaTreePrec)\n",
    "\n",
    "clf2 = GaussianNB()\n",
    "clf2.fit(xTrain, yTrain)\n",
    "nbRec = recall(yTest,clf2.predict(xTest))\n",
    "nbPrec = precision(yTest,clf2.predict(xTest))\n",
    "#print \"GaussianNB recall: {:.2f} and precision: {:.2f}\".format(recall(yTest,clf2.predict(xTest)),precision(yTest,clf2.predict(xTest)))\n",
    "print \"GaussianNB recall: {:.2f} and precision: {:.2f}\".format(nbRec, nbPrec)\n",
    "\n",
    "results = {\n",
    "  \"Naive Bayes Recall\": nbRec,\n",
    "  \"Naive Bayes Precision\": nbPrec,\n",
    "  \"Decision Tree Recall\": dtaTreeRec,\n",
    "  \"Decision Tree Precision\": dtaTreePrec\n",
    "}"
   ]
  },
  {
   "cell_type": "code",
   "execution_count": null,
   "metadata": {
    "collapsed": true
   },
   "outputs": [],
   "source": []
  }
 ],
 "metadata": {
  "anaconda-cloud": {},
  "kernelspec": {
   "display_name": "Python [conda root]",
   "language": "python",
   "name": "conda-root-py"
  },
  "language_info": {
   "codemirror_mode": {
    "name": "ipython",
    "version": 2
   },
   "file_extension": ".py",
   "mimetype": "text/x-python",
   "name": "python",
   "nbconvert_exporter": "python",
   "pygments_lexer": "ipython2",
   "version": "2.7.12"
  }
 },
 "nbformat": 4,
 "nbformat_minor": 1
}

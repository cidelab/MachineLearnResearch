{
 "cells": [
  {
   "cell_type": "code",
   "execution_count": 11,
   "metadata": {
    "collapsed": false
   },
   "outputs": [],
   "source": [
    "import pickle\n",
    "import numpy\n",
    "import matplotlib.pyplot as plt\n",
    "import sys\n",
    "sys.path.append(\"../MachineLearnResearch/tools/\")\n",
    "from feature_format import featureFormat, targetFeatureSplit"
   ]
  },
  {
   "cell_type": "code",
   "execution_count": 12,
   "metadata": {
    "collapsed": false
   },
   "outputs": [
    {
     "data": {
      "image/png": "[encoded data removed]",
      "text/plain": [
       "<matplotlib.figure.Figure at 0x9f6eeb8>"
      ]
     },
     "metadata": {},
     "output_type": "display_data"
    },
    {
     "name": "stdout",
     "output_type": "stream",
     "text": [
      "no predictions object named pred found, no clusters to plot\n"
     ]
    }
   ],
   "source": [
    "def Draw(pred, features, poi, mark_poi=False, name=\"image.png\", f1_name=\"feature 1\", f2_name=\"feature 2\"):\n",
    "\n",
    "    \"\"\" some plotting code designed to help you visualize your clusters \"\"\"\n",
    "\n",
    "    ### plot each cluster with a different color--add more colors for\n",
    "\n",
    "    ### drawing more than five clusters\n",
    "\n",
    "    colors = [\"b\", \"c\", \"k\", \"m\", \"g\"]\n",
    "\n",
    "    for ii, pp in enumerate(pred):\n",
    "\n",
    "        plt.scatter(features[ii][0], features[ii][1], color = colors[pred[ii]])\n",
    "\n",
    "    ### if you like, place red stars over points that are POIs (just for funsies)\n",
    "\n",
    "    if mark_poi:\n",
    "\n",
    "        for ii, pp in enumerate(pred):\n",
    "\n",
    "            if poi[ii]:\n",
    "\n",
    "                plt.scatter(features[ii][0], features[ii][1], color=\"r\", marker=\"*\")\n",
    "\n",
    "    plt.xlabel(f1_name)\n",
    "\n",
    "    plt.ylabel(f2_name)\n",
    "\n",
    "    plt.savefig(name)\n",
    "\n",
    "    plt.show()\n",
    "\n",
    "### load in the dict of dicts containing all the data on each person in the dataset\n",
    "\n",
    "data_dict = pickle.load(open(\"../MachineLearnResearch/final_project_dataset.pkl\", \"r\") )\n",
    "\n",
    "### there's an outlier--remove it! \n",
    "\n",
    "data_dict.pop(\"TOTAL\", 0)\n",
    "\n",
    "### the input features we want to use \n",
    "\n",
    "### can be any key in the person-level dictionary (salary, director_fees, etc.) \n",
    "\n",
    "feature_1 = \"salary\"\n",
    "\n",
    "feature_2 = \"exercised_stock_options\"\n",
    "\n",
    "poi  = \"poi\"\n",
    "\n",
    "features_list = [poi, feature_1, feature_2]\n",
    "\n",
    "data = featureFormat(data_dict, features_list )\n",
    "\n",
    "poi, finance_features = targetFeatureSplit( data )\n",
    "\n",
    "### in the \"clustering with 3 features\" part of the mini-project,\n",
    "\n",
    "### you'll want to change this line to \n",
    "\n",
    "### for f1, f2, _ in finance_features:\n",
    "\n",
    "### (as it's currently written, the line below assumes 2 features)\n",
    "\n",
    "for f1, f2 in finance_features:\n",
    "\n",
    "    plt.scatter( f1, f2 )\n",
    "\n",
    "plt.show()\n",
    "\n",
    "\n",
    "\n",
    "### cluster here; create predictions of the cluster labels\n",
    "\n",
    "### for the data and store them to a list called pred\n",
    "\n",
    "### rename the \"name\" parameter when you change the number of features\n",
    "\n",
    "### so that the figure gets saved to a different file\n",
    "\n",
    "try:\n",
    "\n",
    "    Draw(pred, finance_features, poi, mark_poi=False, name=\"clusters.pdf\", f1_name=feature_1, f2_name=feature_2)\n",
    "\n",
    "except NameError:\n",
    "\n",
    "    print \"no predictions object named pred found, no clusters to plot\""
   ]
  },
  {
   "cell_type": "code",
   "execution_count": null,
   "metadata": {
    "collapsed": true
   },
   "outputs": [],
   "source": []
  }
 ],
 "metadata": {
  "anaconda-cloud": {},
  "kernelspec": {
   "display_name": "Python [default]",
   "language": "python",
   "name": "python2"
  },
  "language_info": {
   "codemirror_mode": {
    "name": "ipython",
    "version": 2
   },
   "file_extension": ".py",
   "mimetype": "text/x-python",
   "name": "python",
   "nbconvert_exporter": "python",
   "pygments_lexer": "ipython2",
   "version": "2.7.12"
  }
 },
 "nbformat": 4,
 "nbformat_minor": 1
}

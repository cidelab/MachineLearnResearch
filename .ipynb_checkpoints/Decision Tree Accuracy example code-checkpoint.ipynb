{
 "cells": [
  {
   "cell_type": "markdown",
   "metadata": {},
   "source": [
    "import sys\n",
    "from class_vis import prettyPicture\n",
    "from prep_terrain_data import makeTerrainData\n",
    "\n",
    "import matplotlib.pyplot as plt\n",
    "import numpy as np\n",
    "import pylab as pl\n",
    "\n",
    "features_train, labels_train, features_test, labels_test = makeTerrainData()\n",
    "\n",
    "########################## DECISION TREE #################################\n",
    "from sklearn import tree\n",
    "from sklearn.metrics import precision_score as precision\n",
    "from sklearn.metrics import accuracy_score\n",
    "\n",
    "#### your code goes here\n",
    "\n",
    "### you fill this in!\n",
    "### be sure to compute the accuracy on the test set\n",
    "\n",
    "### your code goes here--now create 2 decision tree classifiers,\n",
    "### one with min_samples_split=2 and one with min_samples_split=50\n",
    "\n",
    "###one with min_samples_split=2\n",
    "clf = tree.DecisionTreeClassifier(min_samples_split=2)\n",
    "clf = clf.fit(features_train, labels_train)\n",
    "pred = clf.predict(features_test)\n",
    "\n",
    "### min_samples_split=50\n",
    "clf_50 = tree.DecisionTreeClassifier(min_samples_split=50)\n",
    "clf_50 = clf_50.fit(features_train, labels_train)\n",
    "pred_50 = clf_50.predict(features_test)\n",
    "\n",
    "\n",
    "### compute the accuracies on the testing data and store\n",
    "### the accuracy numbers to acc_min_samples_split_2 and\n",
    "### acc_min_samples_split_50, respectively\n",
    "\n",
    "### acc_min_samples_split_2 = precision(labels_test, pred)\n",
    "### acc_min_samples_split_50 = precision(labels_test, pred_50)\n",
    "\n",
    "acc_min_samples_split_2 = accuracy_score(labels_test, pred)\n",
    "acc_min_samples_split_50 = accuracy_score(labels_test, pred_50)\n",
    "\n",
    "def submitAccuracies():\n",
    "  return {\"acc_min_samples_split_2\":round(acc_min_samples_split_2,3),\n",
    "          \"acc_min_samples_split_50\":round(acc_min_samples_split_50,3)}"
   ]
  }
 ],
 "metadata": {
  "kernelspec": {
   "display_name": "Python [default]",
   "language": "python",
   "name": "python2"
  },
  "language_info": {
   "codemirror_mode": {
    "name": "ipython",
    "version": 2
   },
   "file_extension": ".py",
   "mimetype": "text/x-python",
   "name": "python",
   "nbconvert_exporter": "python",
   "pygments_lexer": "ipython2",
   "version": "2.7.12"
  }
 },
 "nbformat": 4,
 "nbformat_minor": 1
}

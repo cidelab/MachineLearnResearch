{
 "cells": [
  {
   "cell_type": "code",
   "execution_count": 1,
   "metadata": {
    "collapsed": false
   },
   "outputs": [],
   "source": [
    "sample_memo = '''\n",
    "Milt, we're gonna need to go ahead and move you downstairs into storage B. We have some new people coming in, and we need all the space we can get. So if you could just go ahead and pack up your stuff and move it down there, that would be terrific, OK?\n",
    "Oh, and remember: next Friday... is Hawaiian shirt day. So, you know, if you want to, go ahead and wear a Hawaiian shirt and jeans.\n",
    "Oh, oh, and I almost forgot. Ahh, I'm also gonna need you to go ahead and come in on Sunday, too...\n",
    "Hello Peter, whats happening? Ummm, I'm gonna need you to go ahead and come in tomorrow. So if you could be here around 9 that would be great, mmmk... oh oh! and I almost forgot ahh, I'm also gonna need you to go ahead and come in on Sunday too, kay. We ahh lost some people this week and ah, we sorta need to play catch up.\n",
    "'''"
   ]
  },
  {
   "cell_type": "code",
   "execution_count": 2,
   "metadata": {
    "collapsed": false
   },
   "outputs": [],
   "source": [
    "#   Maximum Likelihood Hypothesis\n",
    "\n",
    "def NextWordProbability(sampletext, word):\n",
    "    \n",
    "    wrds = sampletext.split() # split the text\n",
    "    \n",
    "    maxL = dict() # a dictionary with keys the set of words that come after\n",
    "    # whose values are the number of times the key comes after that word.\n",
    "    i = 1;\n",
    "    \n",
    "    for w in wrds: # for each word in the array\n",
    "        if word == w :\n",
    "            nw = wrds[i]\n",
    "            \n",
    "            if nw not in maxL:\n",
    "                maxL[nw] = 1\n",
    "            else:\n",
    "                maxL[nw] += 1        \n",
    "        i += 1\n",
    "    return maxL\n",
    "    return {}"
   ]
  },
  {
   "cell_type": "code",
   "execution_count": 3,
   "metadata": {
    "collapsed": false
   },
   "outputs": [
    {
     "data": {
      "text/plain": [
       "{'all': 1, 'to': 2, 'you': 3}"
      ]
     },
     "execution_count": 3,
     "metadata": {},
     "output_type": "execute_result"
    }
   ],
   "source": [
    "NextWordProbability(sample_memo, \"need\")"
   ]
  },
  {
   "cell_type": "code",
   "execution_count": 4,
   "metadata": {
    "collapsed": true
   },
   "outputs": [],
   "source": [
    "sample_Test = '''\n",
    "Your guess is that gonna is followed by need\n",
    "The best guess is that gonna is followed by need\n",
    "Your guess is that ahead is followed by and\n",
    "The best guess is that ahead is followed by and\n",
    "Your guess is that could is followed by just\n",
    "The best guess is that could is followed by just\n",
    "Your guess is that be is followed by terrific,\n",
    "The best guess is that be is followed by terrific,\n",
    "'''"
   ]
  },
  {
   "cell_type": "code",
   "execution_count": 5,
   "metadata": {
    "collapsed": false
   },
   "outputs": [
    {
     "data": {
      "text/plain": [
       "{'best': 4}"
      ]
     },
     "execution_count": 5,
     "metadata": {},
     "output_type": "execute_result"
    }
   ],
   "source": [
    "NextWordProbability(sample_Test, \"The\")"
   ]
  },
  {
   "cell_type": "code",
   "execution_count": null,
   "metadata": {
    "collapsed": true
   },
   "outputs": [],
   "source": []
  }
 ],
 "metadata": {
  "anaconda-cloud": {},
  "kernelspec": {
   "display_name": "Python [default]",
   "language": "python",
   "name": "python2"
  },
  "language_info": {
   "codemirror_mode": {
    "name": "ipython",
    "version": 2
   },
   "file_extension": ".py",
   "mimetype": "text/x-python",
   "name": "python",
   "nbconvert_exporter": "python",
   "pygments_lexer": "ipython2",
   "version": "2.7.12"
  }
 },
 "nbformat": 4,
 "nbformat_minor": 1
}

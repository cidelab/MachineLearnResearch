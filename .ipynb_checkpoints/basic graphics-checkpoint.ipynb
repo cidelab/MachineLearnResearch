{
 "cells": [
  {
   "cell_type": "code",
   "execution_count": 1,
   "metadata": {
    "collapsed": true,
    "nbpresent": {
     "id": "5e67b7b2-c347-4b19-be5f-4bff7327dda9"
    }
   },
   "outputs": [],
   "source": [
    "import matplotlib.pyplot as plt\n",
    "import numpy as np"
   ]
  },
  {
   "cell_type": "code",
   "execution_count": 2,
   "metadata": {
    "collapsed": true,
    "nbpresent": {
     "id": "a92cba36-5bdd-45bb-a8e1-cdcc598b77bd"
    }
   },
   "outputs": [],
   "source": [
    "x = [0, 1, 2]\n",
    "y = [0, 1, 4]"
   ]
  },
  {
   "cell_type": "code",
   "execution_count": 3,
   "metadata": {
    "collapsed": false,
    "nbpresent": {
     "id": "b9acaf8d-6341-4317-a669-ef49662d53ac"
    }
   },
   "outputs": [
    {
     "data": {
      "image/png": "[encoded data removed]",
      "text/plain": [
       "<matplotlib.figure.Figure at 0x7db8e10>"
      ]
     },
     "metadata": {},
     "output_type": "display_data"
    }
   ],
   "source": [
    "fig = plt.figure()\n",
    "axes = fig.add_subplot(111)\n",
    "\n",
    "axes.plot(x, y)\n",
    "\n",
    "plt.show()"
   ]
  },
  {
   "cell_type": "code",
   "execution_count": 4,
   "metadata": {
    "collapsed": false,
    "nbpresent": {
     "id": "0204cc2c-cf56-4e22-8f17-414d99d0f748"
    }
   },
   "outputs": [
    {
     "ename": "NameError",
     "evalue": "name 'x_higres' is not defined",
     "output_type": "error",
     "traceback": [
      "\u001b[0;31m---------------------------------------------------------------------------\u001b[0m",
      "\u001b[0;31mNameError\u001b[0m                                 Traceback (most recent call last)",
      "\u001b[0;32m<ipython-input-4-641044a65e1a>\u001b[0m in \u001b[0;36m<module>\u001b[0;34m()\u001b[0m\n\u001b[1;32m      1\u001b[0m \u001b[0mx_highres\u001b[0m \u001b[1;33m=\u001b[0m \u001b[0mnp\u001b[0m\u001b[1;33m.\u001b[0m\u001b[0mlinspace\u001b[0m\u001b[1;33m(\u001b[0m\u001b[1;36m0\u001b[0m\u001b[1;33m,\u001b[0m \u001b[1;36m2\u001b[0m\u001b[1;33m,\u001b[0m \u001b[1;36m20\u001b[0m\u001b[1;33m)\u001b[0m\u001b[1;33m\u001b[0m\u001b[0m\n\u001b[0;32m----> 2\u001b[0;31m \u001b[0my_highres\u001b[0m \u001b[1;33m=\u001b[0m \u001b[0mx_higres\u001b[0m\u001b[1;33m**\u001b[0m\u001b[1;36m2\u001b[0m\u001b[1;33m\u001b[0m\u001b[0m\n\u001b[0m",
      "\u001b[0;31mNameError\u001b[0m: name 'x_higres' is not defined"
     ]
    }
   ],
   "source": [
    "x_highres = np.linspace(0, 2, 20)\n",
    "y_highres = x_higres**2"
   ]
  },
  {
   "cell_type": "code",
   "execution_count": 5,
   "metadata": {
    "collapsed": false
   },
   "outputs": [
    {
     "ename": "NameError",
     "evalue": "name 'y_highres' is not defined",
     "output_type": "error",
     "traceback": [
      "\u001b[0;31m---------------------------------------------------------------------------\u001b[0m",
      "\u001b[0;31mNameError\u001b[0m                                 Traceback (most recent call last)",
      "\u001b[0;32m<ipython-input-5-782c15448e5f>\u001b[0m in \u001b[0;36m<module>\u001b[0;34m()\u001b[0m\n\u001b[1;32m      3\u001b[0m \u001b[1;33m\u001b[0m\u001b[0m\n\u001b[1;32m      4\u001b[0m \u001b[0maxes\u001b[0m\u001b[1;33m.\u001b[0m\u001b[0mplot\u001b[0m\u001b[1;33m(\u001b[0m\u001b[0mx\u001b[0m\u001b[1;33m,\u001b[0m \u001b[0my\u001b[0m\u001b[1;33m)\u001b[0m\u001b[1;33m\u001b[0m\u001b[0m\n\u001b[0;32m----> 5\u001b[0;31m \u001b[0maxes\u001b[0m\u001b[1;33m.\u001b[0m\u001b[0mplot\u001b[0m\u001b[1;33m(\u001b[0m\u001b[0mx_highres\u001b[0m\u001b[1;33m,\u001b[0m \u001b[0my_highres\u001b[0m\u001b[1;33m)\u001b[0m\u001b[1;33m\u001b[0m\u001b[0m\n\u001b[0m\u001b[1;32m      6\u001b[0m \u001b[1;33m\u001b[0m\u001b[0m\n\u001b[1;32m      7\u001b[0m \u001b[0mplt\u001b[0m\u001b[1;33m.\u001b[0m\u001b[0mshow\u001b[0m\u001b[1;33m(\u001b[0m\u001b[1;33m)\u001b[0m\u001b[1;33m\u001b[0m\u001b[0m\n",
      "\u001b[0;31mNameError\u001b[0m: name 'y_highres' is not defined"
     ]
    }
   ],
   "source": [
    "fig = plt.figure()\n",
    "axes = fig.add_subplot(111)\n",
    "\n",
    "axes.plot(x, y)\n",
    "axes.plot(x_highres, y_highres)\n",
    "\n",
    "plt.show()"
   ]
  },
  {
   "cell_type": "code",
   "execution_count": null,
   "metadata": {
    "collapsed": true
   },
   "outputs": [],
   "source": []
  }
 ],
 "metadata": {
  "anaconda-cloud": {},
  "kernelspec": {
   "display_name": "Python [default]",
   "language": "python",
   "name": "python2"
  },
  "language_info": {
   "codemirror_mode": {
    "name": "ipython",
    "version": 2
   },
   "file_extension": ".py",
   "mimetype": "text/x-python",
   "name": "python",
   "nbconvert_exporter": "python",
   "pygments_lexer": "ipython2",
   "version": "2.7.12"
  },
  "nbpresent": {
   "slides": {
    "1aeea443-486d-4532-85f0-f1a8e11ad39a": {
     "id": "1aeea443-486d-4532-85f0-f1a8e11ad39a",
     "prev": "6ea9e00d-03a6-42d1-95ef-ef2f1f895e05",
     "regions": {
      "16b34461-d16e-4801-842e-4b5177b69c2b": {
       "attrs": {
        "height": 0.8,
        "width": 0.8,
        "x": 0.1,
        "y": 0.1
       },
       "content": {
        "cell": "0204cc2c-cf56-4e22-8f17-414d99d0f748",
        "part": "whole"
       },
       "id": "16b34461-d16e-4801-842e-4b5177b69c2b"
      }
     }
    },
    "50019e1a-5a1e-4f72-949f-d067058c7dea": {
     "id": "50019e1a-5a1e-4f72-949f-d067058c7dea",
     "prev": "58146321-d863-45d9-ade8-48c799d560a3",
     "regions": {
      "8e3cab4e-7a6c-4354-98dd-9c5d761d7738": {
       "attrs": {
        "height": 0.8,
        "width": 0.8,
        "x": 0.1,
        "y": 0.1
       },
       "content": {
        "cell": "a92cba36-5bdd-45bb-a8e1-cdcc598b77bd",
        "part": "whole"
       },
       "id": "8e3cab4e-7a6c-4354-98dd-9c5d761d7738"
      }
     }
    },
    "58146321-d863-45d9-ade8-48c799d560a3": {
     "id": "58146321-d863-45d9-ade8-48c799d560a3",
     "layout": "treemap",
     "prev": null,
     "regions": {
      "9141a326-f011-47cd-af31-aa364215b801": {
       "attrs": {
        "height": 1,
        "treemap:weight": 1,
        "width": 1,
        "x": 0,
        "y": 0
       },
       "content": {
        "cell": "5e67b7b2-c347-4b19-be5f-4bff7327dda9",
        "part": "whole"
       },
       "id": "9141a326-f011-47cd-af31-aa364215b801"
      }
     }
    },
    "6ea9e00d-03a6-42d1-95ef-ef2f1f895e05": {
     "id": "6ea9e00d-03a6-42d1-95ef-ef2f1f895e05",
     "prev": "50019e1a-5a1e-4f72-949f-d067058c7dea",
     "regions": {
      "fd9f054b-8482-49bb-ad1a-839daa4beb35": {
       "attrs": {
        "height": 0.8,
        "width": 0.8,
        "x": 0.1,
        "y": 0.1
       },
       "content": {
        "cell": "b9acaf8d-6341-4317-a669-ef49662d53ac",
        "part": "whole"
       },
       "id": "fd9f054b-8482-49bb-ad1a-839daa4beb35"
      }
     }
    }
   },
   "themes": {}
  }
 },
 "nbformat": 4,
 "nbformat_minor": 0
}
